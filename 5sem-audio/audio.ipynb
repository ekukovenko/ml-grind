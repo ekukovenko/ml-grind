{
 "cells": [
  {
   "cell_type": "code",
   "id": "initial_id",
   "metadata": {
    "collapsed": true,
    "ExecuteTime": {
     "end_time": "2025-01-15T20:41:37.251217Z",
     "start_time": "2025-01-15T20:41:37.239998Z"
    }
   },
   "source": [
    "import librosa\n",
    "import pandas as pd\n",
    "import requests\n",
    "import csv\n",
    "import torch\n",
    "from matplotlib import pyplot as plt\n",
    "from sklearn.manifold import TSNE\n",
    "from torch import nn, optim\n",
    "from torch.utils.data import DataLoader, Dataset\n",
    "import os\n",
    "import numpy as np\n",
    "from sklearn.model_selection import train_test_split\n",
    "from sklearn.metrics import classification_report\n",
    "import logging\n",
    "\n",
    "from torch.utils.tensorboard import SummaryWriter"
   ],
   "outputs": [],
   "execution_count": 9
  },
  {
   "metadata": {
    "ExecuteTime": {
     "end_time": "2025-01-15T19:22:12.771470Z",
     "start_time": "2025-01-15T19:20:44.084435Z"
    }
   },
   "cell_type": "code",
   "source": [
    "import requests\n",
    "from bs4 import BeautifulSoup\n",
    "import csv\n",
    "import time\n",
    "\n",
    "class FreesoundParser:\n",
    "    def __init__(self, base_url, max_pages=20):\n",
    "        self.base_url = base_url\n",
    "        self.max_pages = max_pages\n",
    "        self.audio_links = []\n",
    "\n",
    "    def fetch_audio_links(self, search_query, page_number):\n",
    "        url = f\"{self.base_url}/search/?q={search_query}+&page={page_number}#sound\"\n",
    "        print(f\"Загружаем страницу: {url}\")\n",
    "\n",
    "        response = requests.get(url)\n",
    "        response.raise_for_status()\n",
    "        soup = BeautifulSoup(response.text, \"html.parser\")\n",
    "\n",
    "        cards = soup.find_all(\"div\", class_=\"bw-player\")\n",
    "        for card in cards:\n",
    "            audio_link = card.get(\"data-mp3\")\n",
    "            if audio_link:\n",
    "                self.audio_links.append({\"Gender\": search_query, \"Audio Link\": audio_link})\n",
    "\n",
    "    def save_links_to_csv(self, filename):\n",
    "        with open(filename, \"w\", newline=\"\", encoding=\"utf-8\") as csvfile:\n",
    "            writer = csv.DictWriter(csvfile, fieldnames=[\"Gender\", \"Audio Link\"])\n",
    "            writer.writeheader()\n",
    "            writer.writerows(self.audio_links)\n",
    "\n",
    "    def run(self, queries):\n",
    "        for query in queries:\n",
    "            for page_number in range(1, self.max_pages + 1):\n",
    "                try:\n",
    "                    self.fetch_audio_links(query, page_number)\n",
    "                    time.sleep(1) \n",
    "                except Exception as e:\n",
    "                    break\n",
    "        print(f\"Всего собрано {len(self.audio_links)} аудиофайлов.\")\n",
    "        \n",
    "        self.save_links_to_csv(\"audio_links.csv\")\n",
    "\n",
    "if __name__ == \"__main__\":\n",
    "    base_url = \"https://freesound.org\"\n",
    "    queries = [\"male\", \"female\"]\n",
    "\n",
    "    parser = FreesoundParser(base_url, max_pages=20)\n",
    "    parser.run(queries)\n"
   ],
   "id": "a2a6ff7916122a0d",
   "outputs": [
    {
     "name": "stdout",
     "output_type": "stream",
     "text": [
      "Начинаем сбор данных для запроса: male\n",
      "Загружаем страницу: https://freesound.org/search/?q=male+&page=1#sound\n",
      "Найдено 15 аудио на странице.\n",
      "Загружаем страницу: https://freesound.org/search/?q=male+&page=2#sound\n",
      "Найдено 15 аудио на странице.\n",
      "Загружаем страницу: https://freesound.org/search/?q=male+&page=3#sound\n",
      "Найдено 15 аудио на странице.\n",
      "Загружаем страницу: https://freesound.org/search/?q=male+&page=4#sound\n",
      "Найдено 15 аудио на странице.\n",
      "Загружаем страницу: https://freesound.org/search/?q=male+&page=5#sound\n",
      "Найдено 15 аудио на странице.\n",
      "Загружаем страницу: https://freesound.org/search/?q=male+&page=6#sound\n",
      "Найдено 15 аудио на странице.\n",
      "Загружаем страницу: https://freesound.org/search/?q=male+&page=7#sound\n",
      "Найдено 15 аудио на странице.\n",
      "Загружаем страницу: https://freesound.org/search/?q=male+&page=8#sound\n",
      "Найдено 15 аудио на странице.\n",
      "Загружаем страницу: https://freesound.org/search/?q=male+&page=9#sound\n",
      "Найдено 15 аудио на странице.\n",
      "Загружаем страницу: https://freesound.org/search/?q=male+&page=10#sound\n",
      "Найдено 15 аудио на странице.\n",
      "Загружаем страницу: https://freesound.org/search/?q=male+&page=11#sound\n",
      "Найдено 15 аудио на странице.\n",
      "Загружаем страницу: https://freesound.org/search/?q=male+&page=12#sound\n",
      "Найдено 15 аудио на странице.\n",
      "Загружаем страницу: https://freesound.org/search/?q=male+&page=13#sound\n",
      "Найдено 15 аудио на странице.\n",
      "Загружаем страницу: https://freesound.org/search/?q=male+&page=14#sound\n",
      "Найдено 15 аудио на странице.\n",
      "Загружаем страницу: https://freesound.org/search/?q=male+&page=15#sound\n",
      "Найдено 15 аудио на странице.\n",
      "Загружаем страницу: https://freesound.org/search/?q=male+&page=16#sound\n",
      "Найдено 15 аудио на странице.\n",
      "Загружаем страницу: https://freesound.org/search/?q=male+&page=17#sound\n",
      "Найдено 15 аудио на странице.\n",
      "Загружаем страницу: https://freesound.org/search/?q=male+&page=18#sound\n",
      "Найдено 15 аудио на странице.\n",
      "Загружаем страницу: https://freesound.org/search/?q=male+&page=19#sound\n",
      "Найдено 15 аудио на странице.\n",
      "Загружаем страницу: https://freesound.org/search/?q=male+&page=20#sound\n",
      "Найдено 15 аудио на странице.\n",
      "Начинаем сбор данных для запроса: female\n",
      "Загружаем страницу: https://freesound.org/search/?q=female+&page=1#sound\n",
      "Найдено 15 аудио на странице.\n",
      "Загружаем страницу: https://freesound.org/search/?q=female+&page=2#sound\n",
      "Найдено 15 аудио на странице.\n",
      "Загружаем страницу: https://freesound.org/search/?q=female+&page=3#sound\n",
      "Найдено 15 аудио на странице.\n",
      "Загружаем страницу: https://freesound.org/search/?q=female+&page=4#sound\n",
      "Найдено 15 аудио на странице.\n",
      "Загружаем страницу: https://freesound.org/search/?q=female+&page=5#sound\n",
      "Найдено 15 аудио на странице.\n",
      "Загружаем страницу: https://freesound.org/search/?q=female+&page=6#sound\n",
      "Найдено 15 аудио на странице.\n",
      "Загружаем страницу: https://freesound.org/search/?q=female+&page=7#sound\n",
      "Найдено 15 аудио на странице.\n",
      "Загружаем страницу: https://freesound.org/search/?q=female+&page=8#sound\n",
      "Найдено 15 аудио на странице.\n",
      "Загружаем страницу: https://freesound.org/search/?q=female+&page=9#sound\n",
      "Найдено 15 аудио на странице.\n",
      "Загружаем страницу: https://freesound.org/search/?q=female+&page=10#sound\n",
      "Найдено 15 аудио на странице.\n",
      "Загружаем страницу: https://freesound.org/search/?q=female+&page=11#sound\n",
      "Найдено 15 аудио на странице.\n",
      "Загружаем страницу: https://freesound.org/search/?q=female+&page=12#sound\n",
      "Найдено 15 аудио на странице.\n",
      "Загружаем страницу: https://freesound.org/search/?q=female+&page=13#sound\n",
      "Найдено 15 аудио на странице.\n",
      "Загружаем страницу: https://freesound.org/search/?q=female+&page=14#sound\n",
      "Найдено 15 аудио на странице.\n",
      "Загружаем страницу: https://freesound.org/search/?q=female+&page=15#sound\n",
      "Найдено 15 аудио на странице.\n",
      "Загружаем страницу: https://freesound.org/search/?q=female+&page=16#sound\n",
      "Найдено 15 аудио на странице.\n",
      "Загружаем страницу: https://freesound.org/search/?q=female+&page=17#sound\n",
      "Найдено 15 аудио на странице.\n",
      "Загружаем страницу: https://freesound.org/search/?q=female+&page=18#sound\n",
      "Найдено 15 аудио на странице.\n",
      "Загружаем страницу: https://freesound.org/search/?q=female+&page=19#sound\n",
      "Найдено 15 аудио на странице.\n",
      "Загружаем страницу: https://freesound.org/search/?q=female+&page=20#sound\n",
      "Найдено 15 аудио на странице.\n",
      "Всего собрано 600 аудиофайлов.\n",
      "Ссылки сохранены в файл audio_links.csv.\n"
     ]
    }
   ],
   "execution_count": 43
  },
  {
   "metadata": {
    "ExecuteTime": {
     "end_time": "2025-01-15T19:23:49.887341Z",
     "start_time": "2025-01-15T19:23:49.862884Z"
    }
   },
   "cell_type": "code",
   "source": [
    "df = pd.read_csv(\"audio_links.csv\")\n",
    "df.head()"
   ],
   "id": "822146a71f9c9b64",
   "outputs": [
    {
     "data": {
      "text/plain": [
       "  Gender                                         Audio Link\n",
       "0   male  https://cdn.freesound.org/previews/744/744403_...\n",
       "1   male  https://cdn.freesound.org/previews/509/509880_...\n",
       "2   male  https://cdn.freesound.org/previews/464/464239_...\n",
       "3   male  https://cdn.freesound.org/previews/318/318087_...\n",
       "4   male  https://cdn.freesound.org/previews/718/718958_..."
      ],
      "text/html": [
       "<div>\n",
       "<style scoped>\n",
       "    .dataframe tbody tr th:only-of-type {\n",
       "        vertical-align: middle;\n",
       "    }\n",
       "\n",
       "    .dataframe tbody tr th {\n",
       "        vertical-align: top;\n",
       "    }\n",
       "\n",
       "    .dataframe thead th {\n",
       "        text-align: right;\n",
       "    }\n",
       "</style>\n",
       "<table border=\"1\" class=\"dataframe\">\n",
       "  <thead>\n",
       "    <tr style=\"text-align: right;\">\n",
       "      <th></th>\n",
       "      <th>Gender</th>\n",
       "      <th>Audio Link</th>\n",
       "    </tr>\n",
       "  </thead>\n",
       "  <tbody>\n",
       "    <tr>\n",
       "      <th>0</th>\n",
       "      <td>male</td>\n",
       "      <td>https://cdn.freesound.org/previews/744/744403_...</td>\n",
       "    </tr>\n",
       "    <tr>\n",
       "      <th>1</th>\n",
       "      <td>male</td>\n",
       "      <td>https://cdn.freesound.org/previews/509/509880_...</td>\n",
       "    </tr>\n",
       "    <tr>\n",
       "      <th>2</th>\n",
       "      <td>male</td>\n",
       "      <td>https://cdn.freesound.org/previews/464/464239_...</td>\n",
       "    </tr>\n",
       "    <tr>\n",
       "      <th>3</th>\n",
       "      <td>male</td>\n",
       "      <td>https://cdn.freesound.org/previews/318/318087_...</td>\n",
       "    </tr>\n",
       "    <tr>\n",
       "      <th>4</th>\n",
       "      <td>male</td>\n",
       "      <td>https://cdn.freesound.org/previews/718/718958_...</td>\n",
       "    </tr>\n",
       "  </tbody>\n",
       "</table>\n",
       "</div>"
      ]
     },
     "execution_count": 45,
     "metadata": {},
     "output_type": "execute_result"
    }
   ],
   "execution_count": 45
  },
  {
   "metadata": {
    "ExecuteTime": {
     "end_time": "2025-01-15T20:44:39.277794Z",
     "start_time": "2025-01-15T20:44:39.256756Z"
    }
   },
   "cell_type": "code",
   "source": [
    "class AudioProcessor:\n",
    "    def __init__(self, csv_file, output_dir=\"processed_audio\", sr=16000):\n",
    "        self.csv_file = csv_file\n",
    "        self.output_dir = output_dir\n",
    "        self.sr = sr\n",
    "        os.makedirs(self.output_dir, exist_ok=True)\n",
    "\n",
    "    def process_audio(self):\n",
    "        data = pd.read_csv(self.csv_file)\n",
    "        mfcc_features = []\n",
    "        labels = []\n",
    "        for _, row in data.iterrows():\n",
    "            gender = row[\"Gender\"]\n",
    "            url = row[\"Audio Link\"]\n",
    "            try:\n",
    "                response = requests.get(url, stream=True)\n",
    "                response.raise_for_status()\n",
    "                audio_path = os.path.join(self.output_dir, f\"{gender}_{os.path.basename(url).split('.')[0]}.wav\")\n",
    "                with open(audio_path, \"wb\") as audio_file:\n",
    "                    for chunk in response.iter_content(chunk_size=8192):\n",
    "                        audio_file.write(chunk)\n",
    "                audio, _ = librosa.load(audio_path, sr=self.sr)\n",
    "                if len(audio) < 5 * self.sr:\n",
    "                    continue\n",
    "                audio = audio[:5 * self.sr]\n",
    "                mfcc = librosa.feature.mfcc(y=audio, sr=self.sr, n_mfcc=13)\n",
    "                mfcc_features.append(mfcc.T)\n",
    "                labels.append(0 if gender == \"male\" else 1)\n",
    "                os.remove(audio_path)\n",
    "            except Exception as e:\n",
    "                logging.error(f\"Error processing {url}: {e}\")\n",
    "        return mfcc_features, labels"
   ],
   "id": "e1037d3838164a8c",
   "outputs": [],
   "execution_count": 14
  },
  {
   "metadata": {
    "ExecuteTime": {
     "end_time": "2025-01-15T20:44:40.538089Z",
     "start_time": "2025-01-15T20:44:40.521372Z"
    }
   },
   "cell_type": "code",
   "source": [
    "class AudioDataset(Dataset):\n",
    "    def __init__(self, features, labels):\n",
    "        self.features = [torch.tensor(f, dtype=torch.float32) for f in features]\n",
    "        self.labels = torch.tensor(labels, dtype=torch.float32)\n",
    "\n",
    "    def __len__(self):\n",
    "        return len(self.labels)\n",
    "\n",
    "    def __getitem__(self, idx):\n",
    "        return self.features[idx], self.labels[idx]"
   ],
   "id": "25681ba0b5d02369",
   "outputs": [],
   "execution_count": 15
  },
  {
   "metadata": {
    "ExecuteTime": {
     "end_time": "2025-01-15T21:16:58.586970Z",
     "start_time": "2025-01-15T21:16:58.580068Z"
    }
   },
   "cell_type": "code",
   "source": [
    "class Attention(nn.Module):\n",
    "    def __init__(self, hidden_dim):\n",
    "        super(Attention, self).__init__()\n",
    "        self.attention = nn.Linear(hidden_dim * 2, 1)\n",
    "\n",
    "    def forward(self, lstm_out):\n",
    "        attention_weights = torch.softmax(self.attention(lstm_out), dim=1)\n",
    "        attention_weights = attention_weights.transpose(1, 2)\n",
    "        weighted_sum = torch.bmm(attention_weights, lstm_out)\n",
    "        return weighted_sum.squeeze(1)"
   ],
   "id": "b88ee466641ca86d",
   "outputs": [],
   "execution_count": 32
  },
  {
   "metadata": {
    "ExecuteTime": {
     "end_time": "2025-01-15T21:21:02.856845Z",
     "start_time": "2025-01-15T21:21:02.849511Z"
    }
   },
   "cell_type": "code",
   "source": [
    "class RNNTextClassificationModel(nn.Module):\n",
    "    def __init__(self, input_dim, hidden_dim, output_dim, num_layers=2, bidirectional=True, dropout=0.3):\n",
    "        super(RNNTextClassificationModel, self).__init__()\n",
    "        self.lstm = nn.LSTM(input_dim, hidden_dim, num_layers=num_layers, bidirectional=bidirectional, batch_first=True)\n",
    "        self.attention = Attention(hidden_dim)\n",
    "        self.batchNorm = nn.BatchNorm1d(hidden_dim * 2)\n",
    "        self.fc = nn.Linear(hidden_dim * 2 if bidirectional else hidden_dim, output_dim)\n",
    "        self.dropout = nn.Dropout(dropout)\n",
    "\n",
    "    def forward(self, x, return_embedding=False):\n",
    "        lstm_out, _ = self.lstm(x)\n",
    "        attention_out = self.attention(lstm_out)\n",
    "        attention_out = self.batchNorm(attention_out)\n",
    "        attention_out = self.dropout(attention_out)\n",
    "        if return_embedding:\n",
    "            return attention_out\n",
    "        return self.fc(attention_out).squeeze(1)"
   ],
   "id": "f7aadba86f58a4fd",
   "outputs": [],
   "execution_count": 45
  },
  {
   "metadata": {
    "ExecuteTime": {
     "end_time": "2025-01-15T20:50:40.659599Z",
     "start_time": "2025-01-15T20:44:42.667741Z"
    }
   },
   "cell_type": "code",
   "source": [
    "csv_file = \"audio_links.csv\"\n",
    "\n",
    "processor = AudioProcessor(csv_file)\n",
    "mfcc_features, labels = processor.process_audio()"
   ],
   "id": "18cbde8e32bf1deb",
   "outputs": [],
   "execution_count": 17
  },
  {
   "metadata": {
    "ExecuteTime": {
     "end_time": "2025-01-15T21:19:39.156768Z",
     "start_time": "2025-01-15T21:19:39.097771Z"
    }
   },
   "cell_type": "code",
   "source": [
    "X_train, X_test, y_train, y_test = train_test_split(mfcc_features, labels, test_size=0.2, random_state=42)\n",
    "train_dataset = AudioDataset(X_train, y_train)\n",
    "test_dataset = AudioDataset(X_test, y_test)\n",
    "train_loader = DataLoader(train_dataset, batch_size=32, shuffle=True)\n",
    "test_loader = DataLoader(test_dataset, batch_size=32, shuffle=False)"
   ],
   "id": "7961bf8415e08bc4",
   "outputs": [
    {
     "ename": "ValueError",
     "evalue": "Found input variables with inconsistent numbers of samples: [343, 5]",
     "output_type": "error",
     "traceback": [
      "\u001B[1;31m---------------------------------------------------------------------------\u001B[0m",
      "\u001B[1;31mValueError\u001B[0m                                Traceback (most recent call last)",
      "Cell \u001B[1;32mIn[40], line 1\u001B[0m\n\u001B[1;32m----> 1\u001B[0m X_train, X_test, y_train, y_test \u001B[38;5;241m=\u001B[39m \u001B[43mtrain_test_split\u001B[49m\u001B[43m(\u001B[49m\u001B[43mmfcc_features\u001B[49m\u001B[43m,\u001B[49m\u001B[43m \u001B[49m\u001B[43mlabels\u001B[49m\u001B[43m,\u001B[49m\u001B[43m \u001B[49m\u001B[43mtest_size\u001B[49m\u001B[38;5;241;43m=\u001B[39;49m\u001B[38;5;241;43m0.2\u001B[39;49m\u001B[43m,\u001B[49m\u001B[43m \u001B[49m\u001B[43mrandom_state\u001B[49m\u001B[38;5;241;43m=\u001B[39;49m\u001B[38;5;241;43m42\u001B[39;49m\u001B[43m)\u001B[49m\n\u001B[0;32m      2\u001B[0m train_dataset \u001B[38;5;241m=\u001B[39m AudioDataset(X_train, y_train)\n\u001B[0;32m      3\u001B[0m test_dataset \u001B[38;5;241m=\u001B[39m AudioDataset(X_test, y_test)\n",
      "File \u001B[1;32m~\\AppData\\Local\\Programs\\Python\\Python312\\Lib\\site-packages\\sklearn\\utils\\_param_validation.py:213\u001B[0m, in \u001B[0;36mvalidate_params.<locals>.decorator.<locals>.wrapper\u001B[1;34m(*args, **kwargs)\u001B[0m\n\u001B[0;32m    207\u001B[0m \u001B[38;5;28;01mtry\u001B[39;00m:\n\u001B[0;32m    208\u001B[0m     \u001B[38;5;28;01mwith\u001B[39;00m config_context(\n\u001B[0;32m    209\u001B[0m         skip_parameter_validation\u001B[38;5;241m=\u001B[39m(\n\u001B[0;32m    210\u001B[0m             prefer_skip_nested_validation \u001B[38;5;129;01mor\u001B[39;00m global_skip_validation\n\u001B[0;32m    211\u001B[0m         )\n\u001B[0;32m    212\u001B[0m     ):\n\u001B[1;32m--> 213\u001B[0m         \u001B[38;5;28;01mreturn\u001B[39;00m \u001B[43mfunc\u001B[49m\u001B[43m(\u001B[49m\u001B[38;5;241;43m*\u001B[39;49m\u001B[43margs\u001B[49m\u001B[43m,\u001B[49m\u001B[43m \u001B[49m\u001B[38;5;241;43m*\u001B[39;49m\u001B[38;5;241;43m*\u001B[39;49m\u001B[43mkwargs\u001B[49m\u001B[43m)\u001B[49m\n\u001B[0;32m    214\u001B[0m \u001B[38;5;28;01mexcept\u001B[39;00m InvalidParameterError \u001B[38;5;28;01mas\u001B[39;00m e:\n\u001B[0;32m    215\u001B[0m     \u001B[38;5;66;03m# When the function is just a wrapper around an estimator, we allow\u001B[39;00m\n\u001B[0;32m    216\u001B[0m     \u001B[38;5;66;03m# the function to delegate validation to the estimator, but we replace\u001B[39;00m\n\u001B[0;32m    217\u001B[0m     \u001B[38;5;66;03m# the name of the estimator by the name of the function in the error\u001B[39;00m\n\u001B[0;32m    218\u001B[0m     \u001B[38;5;66;03m# message to avoid confusion.\u001B[39;00m\n\u001B[0;32m    219\u001B[0m     msg \u001B[38;5;241m=\u001B[39m re\u001B[38;5;241m.\u001B[39msub(\n\u001B[0;32m    220\u001B[0m         \u001B[38;5;124mr\u001B[39m\u001B[38;5;124m\"\u001B[39m\u001B[38;5;124mparameter of \u001B[39m\u001B[38;5;124m\\\u001B[39m\u001B[38;5;124mw+ must be\u001B[39m\u001B[38;5;124m\"\u001B[39m,\n\u001B[0;32m    221\u001B[0m         \u001B[38;5;124mf\u001B[39m\u001B[38;5;124m\"\u001B[39m\u001B[38;5;124mparameter of \u001B[39m\u001B[38;5;132;01m{\u001B[39;00mfunc\u001B[38;5;241m.\u001B[39m\u001B[38;5;18m__qualname__\u001B[39m\u001B[38;5;132;01m}\u001B[39;00m\u001B[38;5;124m must be\u001B[39m\u001B[38;5;124m\"\u001B[39m,\n\u001B[0;32m    222\u001B[0m         \u001B[38;5;28mstr\u001B[39m(e),\n\u001B[0;32m    223\u001B[0m     )\n",
      "File \u001B[1;32m~\\AppData\\Local\\Programs\\Python\\Python312\\Lib\\site-packages\\sklearn\\model_selection\\_split.py:2782\u001B[0m, in \u001B[0;36mtrain_test_split\u001B[1;34m(test_size, train_size, random_state, shuffle, stratify, *arrays)\u001B[0m\n\u001B[0;32m   2779\u001B[0m \u001B[38;5;28;01mif\u001B[39;00m n_arrays \u001B[38;5;241m==\u001B[39m \u001B[38;5;241m0\u001B[39m:\n\u001B[0;32m   2780\u001B[0m     \u001B[38;5;28;01mraise\u001B[39;00m \u001B[38;5;167;01mValueError\u001B[39;00m(\u001B[38;5;124m\"\u001B[39m\u001B[38;5;124mAt least one array required as input\u001B[39m\u001B[38;5;124m\"\u001B[39m)\n\u001B[1;32m-> 2782\u001B[0m arrays \u001B[38;5;241m=\u001B[39m \u001B[43mindexable\u001B[49m\u001B[43m(\u001B[49m\u001B[38;5;241;43m*\u001B[39;49m\u001B[43marrays\u001B[49m\u001B[43m)\u001B[49m\n\u001B[0;32m   2784\u001B[0m n_samples \u001B[38;5;241m=\u001B[39m _num_samples(arrays[\u001B[38;5;241m0\u001B[39m])\n\u001B[0;32m   2785\u001B[0m n_train, n_test \u001B[38;5;241m=\u001B[39m _validate_shuffle_split(\n\u001B[0;32m   2786\u001B[0m     n_samples, test_size, train_size, default_test_size\u001B[38;5;241m=\u001B[39m\u001B[38;5;241m0.25\u001B[39m\n\u001B[0;32m   2787\u001B[0m )\n",
      "File \u001B[1;32m~\\AppData\\Local\\Programs\\Python\\Python312\\Lib\\site-packages\\sklearn\\utils\\validation.py:514\u001B[0m, in \u001B[0;36mindexable\u001B[1;34m(*iterables)\u001B[0m\n\u001B[0;32m    484\u001B[0m \u001B[38;5;250m\u001B[39m\u001B[38;5;124;03m\"\"\"Make arrays indexable for cross-validation.\u001B[39;00m\n\u001B[0;32m    485\u001B[0m \n\u001B[0;32m    486\u001B[0m \u001B[38;5;124;03mChecks consistent length, passes through None, and ensures that everything\u001B[39;00m\n\u001B[1;32m   (...)\u001B[0m\n\u001B[0;32m    510\u001B[0m \u001B[38;5;124;03m[[1, 2, 3], array([2, 3, 4]), None, <...Sparse...dtype 'int64'...shape (3, 1)>]\u001B[39;00m\n\u001B[0;32m    511\u001B[0m \u001B[38;5;124;03m\"\"\"\u001B[39;00m\n\u001B[0;32m    513\u001B[0m result \u001B[38;5;241m=\u001B[39m [_make_indexable(X) \u001B[38;5;28;01mfor\u001B[39;00m X \u001B[38;5;129;01min\u001B[39;00m iterables]\n\u001B[1;32m--> 514\u001B[0m \u001B[43mcheck_consistent_length\u001B[49m\u001B[43m(\u001B[49m\u001B[38;5;241;43m*\u001B[39;49m\u001B[43mresult\u001B[49m\u001B[43m)\u001B[49m\n\u001B[0;32m    515\u001B[0m \u001B[38;5;28;01mreturn\u001B[39;00m result\n",
      "File \u001B[1;32m~\\AppData\\Local\\Programs\\Python\\Python312\\Lib\\site-packages\\sklearn\\utils\\validation.py:457\u001B[0m, in \u001B[0;36mcheck_consistent_length\u001B[1;34m(*arrays)\u001B[0m\n\u001B[0;32m    455\u001B[0m uniques \u001B[38;5;241m=\u001B[39m np\u001B[38;5;241m.\u001B[39munique(lengths)\n\u001B[0;32m    456\u001B[0m \u001B[38;5;28;01mif\u001B[39;00m \u001B[38;5;28mlen\u001B[39m(uniques) \u001B[38;5;241m>\u001B[39m \u001B[38;5;241m1\u001B[39m:\n\u001B[1;32m--> 457\u001B[0m     \u001B[38;5;28;01mraise\u001B[39;00m \u001B[38;5;167;01mValueError\u001B[39;00m(\n\u001B[0;32m    458\u001B[0m         \u001B[38;5;124m\"\u001B[39m\u001B[38;5;124mFound input variables with inconsistent numbers of samples: \u001B[39m\u001B[38;5;132;01m%r\u001B[39;00m\u001B[38;5;124m\"\u001B[39m\n\u001B[0;32m    459\u001B[0m         \u001B[38;5;241m%\u001B[39m [\u001B[38;5;28mint\u001B[39m(l) \u001B[38;5;28;01mfor\u001B[39;00m l \u001B[38;5;129;01min\u001B[39;00m lengths]\n\u001B[0;32m    460\u001B[0m     )\n",
      "\u001B[1;31mValueError\u001B[0m: Found input variables with inconsistent numbers of samples: [343, 5]"
     ]
    }
   ],
   "execution_count": 40
  },
  {
   "metadata": {
    "ExecuteTime": {
     "end_time": "2025-01-15T21:21:26.401404Z",
     "start_time": "2025-01-15T21:21:26.382595Z"
    }
   },
   "cell_type": "code",
   "source": [
    "input_dim = 13\n",
    "hidden_dim = 64\n",
    "output_dim = 1\n",
    "model = RNNTextClassificationModel(input_dim, hidden_dim, output_dim)\n",
    "device = torch.device(\"cuda\" if torch.cuda.is_available() else \"cpu\")\n",
    "model.to(device)\n",
    "\n",
    "writer = SummaryWriter()\n",
    "\n",
    "criterion = nn.BCEWithLogitsLoss()\n",
    "optimizer = optim.Adam(model.parameters(), lr=1e-3)"
   ],
   "id": "183a7bb694a9a550",
   "outputs": [],
   "execution_count": 47
  },
  {
   "metadata": {
    "ExecuteTime": {
     "end_time": "2025-01-15T21:25:54.518581Z",
     "start_time": "2025-01-15T21:25:52.718955Z"
    }
   },
   "cell_type": "code",
   "source": [
    "epochs = 20\n",
    "for epoch in range(epochs):\n",
    "    model.train()\n",
    "    train_loss = 0\n",
    "    train_correct = 0\n",
    "    train_total = 0\n",
    "    for features, labels in train_loader:\n",
    "        features, labels = features.to(device), labels.to(device)\n",
    "        optimizer.zero_grad()\n",
    "        outputs = model(features)\n",
    "        loss = criterion(outputs, labels)\n",
    "        loss.backward()\n",
    "        optimizer.step()\n",
    "        train_loss += loss.item()\n",
    "        preds = (torch.sigmoid(outputs) >= 0.5).float()\n",
    "        train_correct += (preds == labels).sum().item()\n",
    "        train_total += labels.size(0)\n",
    "    avg_loss = train_loss / len(train_loader)\n",
    "    train_accuracy = train_correct / train_total\n",
    "    writer.add_scalar('Loss/Train', avg_loss, epoch)\n",
    "    writer.add_scalar('Accuracy/Train', train_accuracy, epoch)\n",
    "    print(f\"Epoch {epoch + 1}/{epochs} | Train Loss: {avg_loss:.4f} | Train Accuracy: {train_accuracy:.4f}\")\n",
    "\n",
    "    model.eval()\n",
    "    test_loss = 0\n",
    "    test_correct = 0\n",
    "    test_total = 0\n",
    "    with torch.no_grad():\n",
    "        for features, labels in test_loader:\n",
    "            features, labels = features.to(device), labels.to(device)\n",
    "            outputs = model(features)\n",
    "            loss = criterion(outputs, labels)\n",
    "            test_loss += loss.item()\n",
    "            preds = (torch.sigmoid(outputs) >= 0.5).float()\n",
    "            test_correct += (preds == labels).sum().item()\n",
    "            test_total += labels.size(0)\n",
    "    avg_test_loss = test_loss / len(test_loader)\n",
    "    test_accuracy = test_correct / test_total\n",
    "    writer.add_scalar('Loss/Test', avg_test_loss, epoch)\n",
    "    writer.add_scalar('Accuracy/Test', test_accuracy, epoch)\n",
    "    print(f\"Epoch {epoch + 1}/{epochs} | Test Loss: {avg_test_loss:.4f} | Test Accuracy: {test_accuracy:.4f}\")"
   ],
   "id": "d6acd7386c1a8987",
   "outputs": [
    {
     "name": "stdout",
     "output_type": "stream",
     "text": [
      "Epoch 1/20 | Train Loss: 0.0505 | Train Accuracy: 0.9745\n",
      "Epoch 1/20 | Test Loss: 1.6824 | Test Accuracy: 0.7101\n",
      "Epoch 2/20 | Train Loss: 0.0667 | Train Accuracy: 0.9781\n",
      "Epoch 2/20 | Test Loss: 1.5592 | Test Accuracy: 0.7246\n",
      "Epoch 3/20 | Train Loss: 0.1270 | Train Accuracy: 0.9599\n",
      "Epoch 3/20 | Test Loss: 1.1714 | Test Accuracy: 0.7391\n",
      "Epoch 4/20 | Train Loss: 0.0893 | Train Accuracy: 0.9562\n",
      "Epoch 4/20 | Test Loss: 1.3675 | Test Accuracy: 0.7536\n",
      "Epoch 5/20 | Train Loss: 0.0932 | Train Accuracy: 0.9635\n",
      "Epoch 5/20 | Test Loss: 1.4566 | Test Accuracy: 0.6957\n",
      "Epoch 6/20 | Train Loss: 0.0447 | Train Accuracy: 0.9891\n",
      "Epoch 6/20 | Test Loss: 1.1887 | Test Accuracy: 0.7536\n",
      "Epoch 7/20 | Train Loss: 0.0522 | Train Accuracy: 0.9891\n",
      "Epoch 7/20 | Test Loss: 1.1903 | Test Accuracy: 0.7681\n",
      "Epoch 8/20 | Train Loss: 0.0585 | Train Accuracy: 0.9781\n",
      "Epoch 8/20 | Test Loss: 1.3250 | Test Accuracy: 0.7101\n",
      "Epoch 9/20 | Train Loss: 0.0360 | Train Accuracy: 0.9891\n",
      "Epoch 9/20 | Test Loss: 1.3401 | Test Accuracy: 0.7391\n",
      "Epoch 10/20 | Train Loss: 0.0326 | Train Accuracy: 0.9927\n",
      "Epoch 10/20 | Test Loss: 1.5800 | Test Accuracy: 0.7246\n",
      "Epoch 11/20 | Train Loss: 0.0272 | Train Accuracy: 0.9927\n",
      "Epoch 11/20 | Test Loss: 1.6847 | Test Accuracy: 0.7536\n",
      "Epoch 12/20 | Train Loss: 0.0247 | Train Accuracy: 0.9927\n",
      "Epoch 12/20 | Test Loss: 1.6498 | Test Accuracy: 0.7101\n",
      "Epoch 13/20 | Train Loss: 0.0140 | Train Accuracy: 0.9927\n",
      "Epoch 13/20 | Test Loss: 1.6045 | Test Accuracy: 0.7246\n",
      "Epoch 14/20 | Train Loss: 0.0141 | Train Accuracy: 0.9927\n",
      "Epoch 14/20 | Test Loss: 1.6102 | Test Accuracy: 0.7536\n",
      "Epoch 15/20 | Train Loss: 0.0194 | Train Accuracy: 0.9927\n",
      "Epoch 15/20 | Test Loss: 1.7039 | Test Accuracy: 0.7246\n",
      "Epoch 16/20 | Train Loss: 0.0149 | Train Accuracy: 0.9927\n",
      "Epoch 16/20 | Test Loss: 1.8769 | Test Accuracy: 0.6667\n",
      "Epoch 17/20 | Train Loss: 0.0207 | Train Accuracy: 0.9927\n",
      "Epoch 17/20 | Test Loss: 1.8078 | Test Accuracy: 0.6667\n",
      "Epoch 18/20 | Train Loss: 0.0176 | Train Accuracy: 0.9891\n",
      "Epoch 18/20 | Test Loss: 1.8575 | Test Accuracy: 0.6522\n",
      "Epoch 19/20 | Train Loss: 0.0240 | Train Accuracy: 0.9927\n",
      "Epoch 19/20 | Test Loss: 1.8206 | Test Accuracy: 0.6667\n",
      "Epoch 20/20 | Train Loss: 0.0343 | Train Accuracy: 0.9927\n",
      "Epoch 20/20 | Test Loss: 1.6921 | Test Accuracy: 0.7391\n"
     ]
    }
   ],
   "execution_count": 57
  },
  {
   "metadata": {
    "ExecuteTime": {
     "end_time": "2025-01-15T21:25:58.602523Z",
     "start_time": "2025-01-15T21:25:58.529002Z"
    }
   },
   "cell_type": "code",
   "source": [
    "model.eval()\n",
    "all_preds = []\n",
    "all_targets = []\n",
    "embeddings = []\n",
    "with torch.no_grad():\n",
    "    for features, labels in test_loader:\n",
    "        features, labels = features.to(device), labels.to(device)\n",
    "        outputs = torch.sigmoid(model(features))\n",
    "        preds = (outputs >= 0.5).float()\n",
    "        all_preds.extend(preds.cpu().numpy())\n",
    "        all_targets.extend(labels.cpu().numpy())\n",
    "        embeddings.append(model(features, return_embedding=True).cpu().numpy())\n",
    "\n",
    "print(\"Classification Report:\")\n",
    "print(classification_report(all_targets, all_preds, digits=4))\n",
    "logging.info(\"Classification Report:\\n\" + classification_report(all_targets, all_preds, digits=4))"
   ],
   "id": "fa7250e53f3b3705",
   "outputs": [
    {
     "name": "stdout",
     "output_type": "stream",
     "text": [
      "Classification Report:\n",
      "              precision    recall  f1-score   support\n",
      "\n",
      "         0.0     0.8000    0.6667    0.7273        36\n",
      "         1.0     0.6923    0.8182    0.7500        33\n",
      "\n",
      "    accuracy                         0.7391        69\n",
      "   macro avg     0.7462    0.7424    0.7386        69\n",
      "weighted avg     0.7485    0.7391    0.7381        69\n",
      "\n"
     ]
    }
   ],
   "execution_count": 58
  },
  {
   "metadata": {
    "ExecuteTime": {
     "end_time": "2025-01-15T21:26:02.229803Z",
     "start_time": "2025-01-15T21:26:01.265028Z"
    }
   },
   "cell_type": "code",
   "source": [
    "embeddings = np.concatenate(embeddings, axis=0)\n",
    "\n",
    "tsne = TSNE(n_components=2, random_state=42)\n",
    "tsne_results = tsne.fit_transform(embeddings)\n",
    "plt.figure(figsize=(8, 6))\n",
    "scatter = plt.scatter(tsne_results[:, 0], tsne_results[:, 1], c=all_targets, cmap=\"viridis\", alpha=0.7)\n",
    "plt.colorbar(scatter, label=\"Class\")\n",
    "plt.title(\"t-SNE Visualization of Embeddings\")\n",
    "plt.xlabel(\"t-SNE 1\")\n",
    "plt.ylabel(\"t-SNE 2\")\n",
    "plt.savefig(\"tsne_embeddings.png\")\n",
    "plt.show()\n",
    "\n",
    "writer.close()"
   ],
   "id": "3679ac71d2d8cc72",
   "outputs": [
    {
     "data": {
      "text/plain": [
       "<Figure size 800x600 with 2 Axes>"
      ],
      "image/png": "[encoded data removed]"
     },
     "metadata": {},
     "output_type": "display_data"
    }
   ],
   "execution_count": 59
  },
  {
   "metadata": {},
   "cell_type": "code",
   "outputs": [],
   "execution_count": null,
   "source": "",
   "id": "338225b6a421ece4"
  }
 ],
 "metadata": {
  "kernelspec": {
   "display_name": "Python 3 (ipykernel)",
   "language": "python",
   "name": "python3"
  },
  "language_info": {
   "codemirror_mode": {
    "name": "ipython",
    "version": 2
   },
   "file_extension": ".py",
   "mimetype": "text/x-python",
   "name": "python",
   "nbconvert_exporter": "python",
   "pygments_lexer": "ipython2",
   "version": "2.7.6"
  }
 },
 "nbformat": 4,
 "nbformat_minor": 5
}
