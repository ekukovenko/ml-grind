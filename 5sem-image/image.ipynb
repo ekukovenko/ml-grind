{
 "cells": [
  {
   "cell_type": "code",
   "id": "initial_id",
   "metadata": {
    "collapsed": true,
    "ExecuteTime": {
     "end_time": "2025-01-15T12:51:25.371319Z",
     "start_time": "2025-01-15T12:51:18.470960Z"
    }
   },
   "source": [
    "from selenium.webdriver.chrome.service import Service\n",
    "from selenium.webdriver.common.by import By\n",
    "from selenium.webdriver.support.ui import WebDriverWait\n",
    "from selenium.webdriver.support import expected_conditions as EC\n",
    "from webdriver_manager.chrome import ChromeDriverManager\n",
    "from selenium.webdriver.chrome.options import Options\n",
    "from selenium import webdriver\n",
    "from bs4 import BeautifulSoup\n",
    "import time\n",
    "import pandas as pd\n",
    "import requests\n",
    "import csv\n",
    "import torch\n",
    "from torchvision import models, transforms\n",
    "from torch import nn, optim\n",
    "from torch.utils.data import DataLoader, Dataset\n",
    "from PIL import Image\n",
    "import os\n",
    "from sklearn.model_selection import train_test_split\n",
    "from sklearn.metrics import classification_report\n",
    "from sklearn.manifold import TSNE\n",
    "from matplotlib import pyplot as plt\n",
    "from torch.utils.tensorboard import SummaryWriter"
   ],
   "outputs": [],
   "execution_count": 60
  },
  {
   "metadata": {},
   "cell_type": "code",
   "outputs": [],
   "execution_count": null,
   "source": [
    "class KaggleParser:\n",
    "    def __init__(self):\n",
    "        self.url = \"https://www.kaggle.com/datasets/neetuk/naruto-face-dataset/\"\n",
    "        self.options = Options()\n",
    "        self.options.add_argument(\"window-size=1920,1080\")\n",
    "        self.service = Service(ChromeDriverManager().install())\n",
    "\n",
    "    def click_initial_button(self, driver):\n",
    "        try:\n",
    "            print(\"Ищу начальную кнопку...\")\n",
    "            initial_button = WebDriverWait(driver, 10).until(\n",
    "                EC.element_to_be_clickable((By.XPATH,\n",
    "                                            \"//*[@id='site-content']/div[2]/div/div[2]/div/div[5]/div[2]/div/div/div[1]/div/div[3]/div/div[1]\"))\n",
    "            )\n",
    "            initial_button.click()\n",
    "            print(\"Клик по начальной кнопке выполнен.\")\n",
    "            time.sleep(2)\n",
    "        except Exception as e:\n",
    "            print(f\"Ошибка при клике на начальную кнопку: {e}\")\n",
    "\n",
    "    def get_image_urls(self, driver):\n",
    "        image_urls = []\n",
    "\n",
    "        while True:\n",
    "            try:\n",
    "                page_source = driver.page_source\n",
    "                soup = BeautifulSoup(page_source, \"lxml\")\n",
    "\n",
    "                container = soup.find('div', class_='sc-coBSru fzXizf')\n",
    "                if container:\n",
    "                    images = container.find_all('img', class_='sc-gkdOxF jeCaKc')\n",
    "                    for img in images:\n",
    "                        image_url = img.get('src')\n",
    "                        if image_url and image_url not in image_urls:\n",
    "                            image_urls.append(image_url)\n",
    "\n",
    "                print(f\"Найдено {len(images)} изображений, всего собрано {len(image_urls)} уникальных ссылок.\")\n",
    "\n",
    "                try:\n",
    "                    load_more_button = WebDriverWait(driver, 10).until(\n",
    "                        EC.element_to_be_clickable((By.XPATH, \"//a[@class='sc-kxwyJt ioojjQ']\"))\n",
    "                    )\n",
    "                    driver.execute_script(\"arguments[0].click();\", load_more_button)\n",
    "                    print(\"Кнопка 'Load more' нажата.\")\n",
    "                    time.sleep(2)\n",
    "                except Exception as e:\n",
    "                    print(\"Кнопка 'Load more' отсутствует. Завершаем обработку.\")\n",
    "                    break\n",
    "\n",
    "            except Exception as e:\n",
    "                print(f\"Ошибка при обработке страницы: {e}\")\n",
    "                break\n",
    "\n",
    "        return image_urls\n",
    "\n",
    "    def save_to_csv(self, data, filename=\"kaggle_data.csv\"):\n",
    "        with open(filename, \"w\", newline=\"\", encoding=\"utf-8\") as file:\n",
    "            writer = csv.writer(file)\n",
    "            writer.writerow([\"Image URL\"])\n",
    "            for url in data:\n",
    "                writer.writerow([url])\n",
    "\n",
    "if __name__ == \"__main__\":\n",
    "    parser = KaggleParser()\n",
    "    try:\n",
    "        with webdriver.Chrome(service=parser.service, options=parser.options) as driver:\n",
    "            driver.get(parser.url)\n",
    "            time.sleep(2)\n",
    "\n",
    "            parser.click_initial_button(driver)\n",
    "\n",
    "            image_urls = parser.get_image_urls(driver)\n",
    "\n",
    "            parser.save_to_csv(image_urls)\n",
    "            print(f\"Данные сохранены в файл kaggle_data.csv\")\n",
    "    except Exception as e:\n",
    "        print(f\"Ошибка при запуске браузера: {e}\")"
   ],
   "id": "e4a57fb3eaa79741"
  },
  {
   "metadata": {
    "ExecuteTime": {
     "end_time": "2025-01-15T01:42:40.263220Z",
     "start_time": "2025-01-15T01:42:40.262214Z"
    }
   },
   "cell_type": "code",
   "source": [
    "df = pd.read_csv(\"kaggle_data.csv\")\n",
    "df.head()"
   ],
   "id": "8d05196328d99d03",
   "outputs": [],
   "execution_count": null
  },
  {
   "metadata": {},
   "cell_type": "code",
   "source": [
    "def download_images(csv_file, output_folder):\n",
    "    if not os.path.exists(output_folder):\n",
    "        os.makedirs(output_folder)\n",
    "\n",
    "    with open(csv_file, 'r', encoding='utf-8') as file:\n",
    "        reader = csv.reader(file)\n",
    "        next(reader) \n",
    "        for idx, row in enumerate(reader):\n",
    "            image_url = row[0]\n",
    "            try:\n",
    "                response = requests.get(image_url, stream=True)\n",
    "                response.raise_for_status()\n",
    "\n",
    "                filename = os.path.join(output_folder, f'image_{idx}.jpg')\n",
    "\n",
    "                with open(filename, 'wb') as img_file:\n",
    "                    for chunk in response.iter_content(1024):\n",
    "                        img_file.write(chunk)\n",
    "\n",
    "                print(f\"Изображение сохранено: {filename}\")\n",
    "            except Exception as e:\n",
    "                print(f\"Ошибка при загрузке {image_url}: {e}\")\n",
    "\n",
    "\n",
    "csv_file = 'kaggle_data.csv'\n",
    "output_folder = 'images'\n",
    "\n",
    "download_images(csv_file, output_folder)\n",
    "\n",
    "# конвертировал напаршенное в папку с картинками"
   ],
   "id": "72297c826d70adec",
   "outputs": [],
   "execution_count": null
  },
  {
   "metadata": {
    "ExecuteTime": {
     "end_time": "2025-01-15T12:40:34.353612Z",
     "start_time": "2025-01-15T12:40:34.314938Z"
    }
   },
   "cell_type": "code",
   "source": [
    "df = pd.read_csv(\"data_from_label_studio.csv\")\n",
    "df.head()\n",
    "\n",
    "# думал что за меня круто все разметит label-studio, но в итоге убил несколько часов на то чтобы понять, что вручную все размечается куда быстрее"
   ],
   "id": "9e52620b2e89a119",
   "outputs": [
    {
     "data": {
      "text/plain": [
       "   annotation_id  annotator character_class                   created_at   id  \\\n",
       "0              2          1          Naruto  2025-01-14T16:29:07.481469Z  101   \n",
       "1              3          1          Naruto  2025-01-14T16:29:11.344509Z  102   \n",
       "2              4          1          Naruto  2025-01-14T16:29:16.101882Z  103   \n",
       "3              5          1          Naruto  2025-01-14T16:29:20.898250Z  104   \n",
       "4              6          1          Naruto  2025-01-14T16:29:24.962789Z  105   \n",
       "\n",
       "                                  image  lead_time  \\\n",
       "0  /data/upload/2/d10895cc-image_91.jpg      8.564   \n",
       "1  /data/upload/2/abb6a79f-image_92.jpg      3.628   \n",
       "2  /data/upload/2/a00b64bc-image_93.jpg      4.536   \n",
       "3  /data/upload/2/eea3b578-image_94.jpg      4.575   \n",
       "4  /data/upload/2/8adcbde2-image_95.jpg      3.835   \n",
       "\n",
       "                    updated_at  \n",
       "0  2025-01-14T16:29:07.481469Z  \n",
       "1  2025-01-14T16:29:11.344509Z  \n",
       "2  2025-01-14T16:29:16.101882Z  \n",
       "3  2025-01-14T16:29:20.898250Z  \n",
       "4  2025-01-14T16:29:24.962789Z  "
      ],
      "text/html": [
       "<div>\n",
       "<style scoped>\n",
       "    .dataframe tbody tr th:only-of-type {\n",
       "        vertical-align: middle;\n",
       "    }\n",
       "\n",
       "    .dataframe tbody tr th {\n",
       "        vertical-align: top;\n",
       "    }\n",
       "\n",
       "    .dataframe thead th {\n",
       "        text-align: right;\n",
       "    }\n",
       "</style>\n",
       "<table border=\"1\" class=\"dataframe\">\n",
       "  <thead>\n",
       "    <tr style=\"text-align: right;\">\n",
       "      <th></th>\n",
       "      <th>annotation_id</th>\n",
       "      <th>annotator</th>\n",
       "      <th>character_class</th>\n",
       "      <th>created_at</th>\n",
       "      <th>id</th>\n",
       "      <th>image</th>\n",
       "      <th>lead_time</th>\n",
       "      <th>updated_at</th>\n",
       "    </tr>\n",
       "  </thead>\n",
       "  <tbody>\n",
       "    <tr>\n",
       "      <th>0</th>\n",
       "      <td>2</td>\n",
       "      <td>1</td>\n",
       "      <td>Naruto</td>\n",
       "      <td>2025-01-14T16:29:07.481469Z</td>\n",
       "      <td>101</td>\n",
       "      <td>/data/upload/2/d10895cc-image_91.jpg</td>\n",
       "      <td>8.564</td>\n",
       "      <td>2025-01-14T16:29:07.481469Z</td>\n",
       "    </tr>\n",
       "    <tr>\n",
       "      <th>1</th>\n",
       "      <td>3</td>\n",
       "      <td>1</td>\n",
       "      <td>Naruto</td>\n",
       "      <td>2025-01-14T16:29:11.344509Z</td>\n",
       "      <td>102</td>\n",
       "      <td>/data/upload/2/abb6a79f-image_92.jpg</td>\n",
       "      <td>3.628</td>\n",
       "      <td>2025-01-14T16:29:11.344509Z</td>\n",
       "    </tr>\n",
       "    <tr>\n",
       "      <th>2</th>\n",
       "      <td>4</td>\n",
       "      <td>1</td>\n",
       "      <td>Naruto</td>\n",
       "      <td>2025-01-14T16:29:16.101882Z</td>\n",
       "      <td>103</td>\n",
       "      <td>/data/upload/2/a00b64bc-image_93.jpg</td>\n",
       "      <td>4.536</td>\n",
       "      <td>2025-01-14T16:29:16.101882Z</td>\n",
       "    </tr>\n",
       "    <tr>\n",
       "      <th>3</th>\n",
       "      <td>5</td>\n",
       "      <td>1</td>\n",
       "      <td>Naruto</td>\n",
       "      <td>2025-01-14T16:29:20.898250Z</td>\n",
       "      <td>104</td>\n",
       "      <td>/data/upload/2/eea3b578-image_94.jpg</td>\n",
       "      <td>4.575</td>\n",
       "      <td>2025-01-14T16:29:20.898250Z</td>\n",
       "    </tr>\n",
       "    <tr>\n",
       "      <th>4</th>\n",
       "      <td>6</td>\n",
       "      <td>1</td>\n",
       "      <td>Naruto</td>\n",
       "      <td>2025-01-14T16:29:24.962789Z</td>\n",
       "      <td>105</td>\n",
       "      <td>/data/upload/2/8adcbde2-image_95.jpg</td>\n",
       "      <td>3.835</td>\n",
       "      <td>2025-01-14T16:29:24.962789Z</td>\n",
       "    </tr>\n",
       "  </tbody>\n",
       "</table>\n",
       "</div>"
      ]
     },
     "execution_count": 20,
     "metadata": {},
     "output_type": "execute_result"
    }
   ],
   "execution_count": 20
  },
  {
   "metadata": {
    "ExecuteTime": {
     "end_time": "2025-01-15T12:40:43.505379Z",
     "start_time": "2025-01-15T12:40:43.485523Z"
    }
   },
   "cell_type": "code",
   "source": [
    "def convert_csv(input_file, output_file):\n",
    "    df = pd.read_csv(input_file)\n",
    "\n",
    "    df = df[['character_class', 'image']]\n",
    "\n",
    "    df['image'] = df['image'].apply(\n",
    "        lambda x: os.path.join(\n",
    "            \"C:\\\\Users\\\\Ivan\\\\PycharmProjects\\\\image-ekukovenko\\\\images\",\n",
    "            x.split(\"/\")[-1].split(\"-\", 1)[-1]\n",
    "        )\n",
    "    )\n",
    "\n",
    "    df.to_csv(output_file, index=False)\n",
    "\n",
    "input_file = 'data_from_label_studio.csv' \n",
    "output_file = 'output.csv'\n",
    "\n",
    "convert_csv(input_file, output_file)\n",
    "\n",
    "print(f\"Conversion complete! The new CSV is saved as {output_file}\")"
   ],
   "id": "2541d13a9f59aed5",
   "outputs": [
    {
     "name": "stdout",
     "output_type": "stream",
     "text": [
      "Conversion complete! The new CSV is saved as output.csv\n"
     ]
    }
   ],
   "execution_count": 21
  },
  {
   "metadata": {
    "ExecuteTime": {
     "end_time": "2025-01-15T12:40:46.935664Z",
     "start_time": "2025-01-15T12:40:46.914866Z"
    }
   },
   "cell_type": "code",
   "source": [
    "df = pd.read_csv(\"output.csv\")\n",
    "df.head()\n",
    "\n",
    "# конвертировал частично-размеченный датасет по новой после этого интересного и увлекательного label-studio (видимо я не понял как им пользоваться)"
   ],
   "id": "ffacf7dbf3f7dc6b",
   "outputs": [
    {
     "data": {
      "text/plain": [
       "  character_class                                              image\n",
       "0          Naruto  C:\\Users\\Ivan\\PycharmProjects\\image-ekukovenko...\n",
       "1          Naruto  C:\\Users\\Ivan\\PycharmProjects\\image-ekukovenko...\n",
       "2          Naruto  C:\\Users\\Ivan\\PycharmProjects\\image-ekukovenko...\n",
       "3          Naruto  C:\\Users\\Ivan\\PycharmProjects\\image-ekukovenko...\n",
       "4          Naruto  C:\\Users\\Ivan\\PycharmProjects\\image-ekukovenko..."
      ],
      "text/html": [
       "<div>\n",
       "<style scoped>\n",
       "    .dataframe tbody tr th:only-of-type {\n",
       "        vertical-align: middle;\n",
       "    }\n",
       "\n",
       "    .dataframe tbody tr th {\n",
       "        vertical-align: top;\n",
       "    }\n",
       "\n",
       "    .dataframe thead th {\n",
       "        text-align: right;\n",
       "    }\n",
       "</style>\n",
       "<table border=\"1\" class=\"dataframe\">\n",
       "  <thead>\n",
       "    <tr style=\"text-align: right;\">\n",
       "      <th></th>\n",
       "      <th>character_class</th>\n",
       "      <th>image</th>\n",
       "    </tr>\n",
       "  </thead>\n",
       "  <tbody>\n",
       "    <tr>\n",
       "      <th>0</th>\n",
       "      <td>Naruto</td>\n",
       "      <td>C:\\Users\\Ivan\\PycharmProjects\\image-ekukovenko...</td>\n",
       "    </tr>\n",
       "    <tr>\n",
       "      <th>1</th>\n",
       "      <td>Naruto</td>\n",
       "      <td>C:\\Users\\Ivan\\PycharmProjects\\image-ekukovenko...</td>\n",
       "    </tr>\n",
       "    <tr>\n",
       "      <th>2</th>\n",
       "      <td>Naruto</td>\n",
       "      <td>C:\\Users\\Ivan\\PycharmProjects\\image-ekukovenko...</td>\n",
       "    </tr>\n",
       "    <tr>\n",
       "      <th>3</th>\n",
       "      <td>Naruto</td>\n",
       "      <td>C:\\Users\\Ivan\\PycharmProjects\\image-ekukovenko...</td>\n",
       "    </tr>\n",
       "    <tr>\n",
       "      <th>4</th>\n",
       "      <td>Naruto</td>\n",
       "      <td>C:\\Users\\Ivan\\PycharmProjects\\image-ekukovenko...</td>\n",
       "    </tr>\n",
       "  </tbody>\n",
       "</table>\n",
       "</div>"
      ]
     },
     "execution_count": 22,
     "metadata": {},
     "output_type": "execute_result"
    }
   ],
   "execution_count": 22
  },
  {
   "metadata": {
    "ExecuteTime": {
     "end_time": "2025-01-15T12:40:49.590438Z",
     "start_time": "2025-01-15T12:40:49.585482Z"
    }
   },
   "cell_type": "code",
   "source": [
    "from IPython.display import Image, display\n",
    "\n",
    "def display_image(index, dataframe):\n",
    "        row = dataframe.iloc[index]\n",
    "        image_path = row[\"image\"]\n",
    "        character_class = row[\"character_class\"]\n",
    "        print(f\"Index: {index}, Character Class: {character_class}\")\n",
    "        display(Image(filename=image_path))"
   ],
   "id": "68f1de8ead94d166",
   "outputs": [],
   "execution_count": 23
  },
  {
   "metadata": {
    "ExecuteTime": {
     "end_time": "2025-01-15T12:40:52.400916Z",
     "start_time": "2025-01-15T12:40:52.393021Z"
    }
   },
   "cell_type": "code",
   "source": "display_image(52, df)",
   "id": "3823b7c3fc6804a5",
   "outputs": [
    {
     "name": "stdout",
     "output_type": "stream",
     "text": [
      "Index: 52, Character Class: Sakura\n"
     ]
    },
    {
     "data": {
      "image/jpeg": "[encoded data removed]",
      "text/plain": [
       "<IPython.core.display.Image object>"
      ]
     },
     "metadata": {},
     "output_type": "display_data"
    }
   ],
   "execution_count": 24
  },
  {
   "metadata": {
    "ExecuteTime": {
     "end_time": "2025-01-15T12:40:55.534225Z",
     "start_time": "2025-01-15T12:40:55.527007Z"
    }
   },
   "cell_type": "code",
   "source": [
    "labeled_csv = 'output.csv'\n",
    "unlabeled_folder = 'C:/Users/Ivan/PycharmProjects/image-ekukovenko/images' \n",
    "output_csv = 'labeled_data.csv'"
   ],
   "id": "7c6b64ab1f583ad1",
   "outputs": [],
   "execution_count": 25
  },
  {
   "metadata": {
    "ExecuteTime": {
     "end_time": "2025-01-15T12:40:57.996228Z",
     "start_time": "2025-01-15T12:40:57.979583Z"
    }
   },
   "cell_type": "code",
   "source": "labeled_data = pd.read_csv(labeled_csv)",
   "id": "66d263debb380823",
   "outputs": [],
   "execution_count": 26
  },
  {
   "metadata": {
    "ExecuteTime": {
     "end_time": "2025-01-15T12:41:00.565151Z",
     "start_time": "2025-01-15T12:41:00.550368Z"
    }
   },
   "cell_type": "code",
   "source": [
    "class_names = labeled_data['character_class'].unique().tolist()\n",
    "class_names"
   ],
   "id": "276468f5986e08a9",
   "outputs": [
    {
     "data": {
      "text/plain": [
       "['Naruto',\n",
       " 'Sakura',\n",
       " 'Tsunade',\n",
       " 'Sasuke',\n",
       " 'Gaara',\n",
       " 'Shikamaru',\n",
       " 'Kankurо',\n",
       " 'Iruka',\n",
       " 'Teuchi(ramen)',\n",
       " 'Ayame(ramen)',\n",
       " 'Ino',\n",
       " 'Temari',\n",
       " 'Yamato',\n",
       " \"Ebizou(Chie's brother)\",\n",
       " 'Grandmother Chie',\n",
       " 'Rokku Ri',\n",
       " 'Shizune',\n",
       " 'Ten-Ten']"
      ]
     },
     "execution_count": 27,
     "metadata": {},
     "output_type": "execute_result"
    }
   ],
   "execution_count": 27
  },
  {
   "metadata": {
    "ExecuteTime": {
     "end_time": "2025-01-15T12:41:02.765532Z",
     "start_time": "2025-01-15T12:41:02.749399Z"
    }
   },
   "cell_type": "code",
   "source": [
    "class ImageDataset(Dataset):\n",
    "    def __init__(self, dataframe, transform=None):\n",
    "        self.dataframe = dataframe\n",
    "        self.transform = transform\n",
    "\n",
    "    def __len__(self):\n",
    "        return len(self.dataframe)\n",
    "\n",
    "    def __getitem__(self, idx):\n",
    "        row = self.dataframe.iloc[idx]\n",
    "        image_path = row['image']\n",
    "        label = class_names.index(row['character_class']) \n",
    "        image = Image.open(image_path).convert('RGB')\n",
    "\n",
    "        if self.transform:\n",
    "            image = self.transform(image)\n",
    "        return image, label"
   ],
   "id": "6caf10670e401850",
   "outputs": [],
   "execution_count": 28
  },
  {
   "metadata": {},
   "cell_type": "code",
   "source": [
    "transform = transforms.Compose([\n",
    "    transforms.Resize((224, 224)),\n",
    "    transforms.ToTensor(),\n",
    "    transforms.Normalize(mean=[0.485, 0.456, 0.406], std=[0.229, 0.224, 0.225]),\n",
    "])"
   ],
   "id": "60fef3c63dddcce5",
   "outputs": [],
   "execution_count": null
  },
  {
   "metadata": {},
   "cell_type": "code",
   "source": [
    "train_dataset = ImageDataset(labeled_data, transform=transform)\n",
    "train_loader = DataLoader(train_dataset, batch_size=16, shuffle=True)"
   ],
   "id": "e593fa269a0d85fb",
   "outputs": [],
   "execution_count": null
  },
  {
   "metadata": {},
   "cell_type": "code",
   "source": [
    "from torchvision.models import ResNet50_Weights\n",
    "\n",
    "model = models.resnet50(weights=ResNet50_Weights.DEFAULT)\n",
    "num_features = model.fc.in_features\n",
    "model.fc = nn.Linear(num_features, len(class_names))"
   ],
   "id": "48ae919057ee56dd",
   "outputs": [],
   "execution_count": null
  },
  {
   "metadata": {},
   "cell_type": "code",
   "source": [
    "device = torch.device(\"cuda\" if torch.cuda.is_available() else \"cpu\")\n",
    "model = model.to(device)"
   ],
   "id": "39f816899e11c6f6",
   "outputs": [],
   "execution_count": null
  },
  {
   "metadata": {},
   "cell_type": "code",
   "source": [
    "criterion = nn.CrossEntropyLoss()\n",
    "optimizer = optim.Adam(model.parameters(), lr=0.001)\n",
    "num_epochs = 10"
   ],
   "id": "e908522e36dab640",
   "outputs": [],
   "execution_count": null
  },
  {
   "metadata": {},
   "cell_type": "code",
   "source": [
    "model.train()\n",
    "for epoch in range(num_epochs):\n",
    "    running_loss = 0.0\n",
    "    for images, labels in train_loader:\n",
    "        images, labels = images.to(device), labels.to(device)\n",
    "\n",
    "        optimizer.zero_grad()\n",
    "        outputs = model(images)\n",
    "        loss = criterion(outputs, labels)\n",
    "        loss.backward()\n",
    "        optimizer.step()\n",
    "\n",
    "        running_loss += loss.item()\n",
    "\n",
    "    print(f\"Epoch {epoch + 1}/{num_epochs}, Loss: {running_loss / len(train_loader)}\")"
   ],
   "id": "a86a692eb2b5a87a",
   "outputs": [],
   "execution_count": null
  },
  {
   "metadata": {},
   "cell_type": "code",
   "source": "torch.save(model.state_dict(), 'resnet_model_for_markup.pth')",
   "id": "f7b49d9be3483494",
   "outputs": [],
   "execution_count": null
  },
  {
   "metadata": {},
   "cell_type": "code",
   "source": [
    "results = []\n",
    "\n",
    "model.eval()\n",
    "with torch.no_grad():\n",
    "    for image_name in os.listdir(unlabeled_folder):\n",
    "        image_path = os.path.join(unlabeled_folder, image_name)\n",
    "        try:\n",
    "            image = Image.open(image_path).convert('RGB')\n",
    "            input_tensor = transform(image).unsqueeze(0).to(device)\n",
    "\n",
    "            outputs = model(input_tensor)\n",
    "            _, predicted = torch.max(outputs, 1)\n",
    "            predicted_class = class_names[predicted.item()]\n",
    "\n",
    "            results.append({\n",
    "                'character_class': predicted_class,\n",
    "                'image': image_path\n",
    "            })\n",
    "        except Exception as e:\n",
    "            print(f\"Ошибка при обработке {image_name}: {e}\")"
   ],
   "id": "a938a92e20f72b15",
   "outputs": [],
   "execution_count": null
  },
  {
   "metadata": {},
   "cell_type": "code",
   "source": [
    "predicted_data = pd.DataFrame(results)\n",
    "predicted_data.to_csv('resnet_dataset.csv', index=False)"
   ],
   "id": "555e6aacdd5ad2f1",
   "outputs": [],
   "execution_count": null
  },
  {
   "metadata": {},
   "cell_type": "code",
   "source": "from IPython.display import Image, display",
   "id": "80d1d61ddaee32dc",
   "outputs": [],
   "execution_count": null
  },
  {
   "metadata": {
    "ExecuteTime": {
     "end_time": "2025-01-15T12:41:31.332253Z",
     "start_time": "2025-01-15T12:41:31.307363Z"
    }
   },
   "cell_type": "code",
   "source": [
    "df = pd.read_csv(\"resnet_dataset.csv\")\n",
    "df.head()\n",
    "\n",
    "# разметилось очень коряво, поэтому после разметки реснетом все вручную проверил и исправил"
   ],
   "id": "806c5805281a5bc9",
   "outputs": [
    {
     "data": {
      "text/plain": [
       "  character_class                                              image\n",
       "0          Sakura  C:/Users/Ivan/PycharmProjects/image-ekukovenko...\n",
       "1          Sakura  C:/Users/Ivan/PycharmProjects/image-ekukovenko...\n",
       "2          Sakura  C:/Users/Ivan/PycharmProjects/image-ekukovenko...\n",
       "3          Naruto  C:/Users/Ivan/PycharmProjects/image-ekukovenko...\n",
       "4          Sasuke  C:/Users/Ivan/PycharmProjects/image-ekukovenko..."
      ],
      "text/html": [
       "<div>\n",
       "<style scoped>\n",
       "    .dataframe tbody tr th:only-of-type {\n",
       "        vertical-align: middle;\n",
       "    }\n",
       "\n",
       "    .dataframe tbody tr th {\n",
       "        vertical-align: top;\n",
       "    }\n",
       "\n",
       "    .dataframe thead th {\n",
       "        text-align: right;\n",
       "    }\n",
       "</style>\n",
       "<table border=\"1\" class=\"dataframe\">\n",
       "  <thead>\n",
       "    <tr style=\"text-align: right;\">\n",
       "      <th></th>\n",
       "      <th>character_class</th>\n",
       "      <th>image</th>\n",
       "    </tr>\n",
       "  </thead>\n",
       "  <tbody>\n",
       "    <tr>\n",
       "      <th>0</th>\n",
       "      <td>Sakura</td>\n",
       "      <td>C:/Users/Ivan/PycharmProjects/image-ekukovenko...</td>\n",
       "    </tr>\n",
       "    <tr>\n",
       "      <th>1</th>\n",
       "      <td>Sakura</td>\n",
       "      <td>C:/Users/Ivan/PycharmProjects/image-ekukovenko...</td>\n",
       "    </tr>\n",
       "    <tr>\n",
       "      <th>2</th>\n",
       "      <td>Sakura</td>\n",
       "      <td>C:/Users/Ivan/PycharmProjects/image-ekukovenko...</td>\n",
       "    </tr>\n",
       "    <tr>\n",
       "      <th>3</th>\n",
       "      <td>Naruto</td>\n",
       "      <td>C:/Users/Ivan/PycharmProjects/image-ekukovenko...</td>\n",
       "    </tr>\n",
       "    <tr>\n",
       "      <th>4</th>\n",
       "      <td>Sasuke</td>\n",
       "      <td>C:/Users/Ivan/PycharmProjects/image-ekukovenko...</td>\n",
       "    </tr>\n",
       "  </tbody>\n",
       "</table>\n",
       "</div>"
      ]
     },
     "execution_count": 29,
     "metadata": {},
     "output_type": "execute_result"
    }
   ],
   "execution_count": 29
  },
  {
   "metadata": {
    "ExecuteTime": {
     "end_time": "2025-01-15T12:41:33.878035Z",
     "start_time": "2025-01-15T12:41:33.871586Z"
    }
   },
   "cell_type": "code",
   "source": [
    "display_image(6, df)\n",
    "\n",
    "# пример ошибки"
   ],
   "id": "a0fef588291d68a1",
   "outputs": [
    {
     "name": "stdout",
     "output_type": "stream",
     "text": [
      "Index: 6, Character Class: Sasuke\n"
     ]
    },
    {
     "data": {
      "image/jpeg": "[encoded data removed]",
      "text/plain": [
       "<IPython.core.display.Image object>"
      ]
     },
     "metadata": {},
     "output_type": "display_data"
    }
   ],
   "execution_count": 30
  },
  {
   "metadata": {
    "ExecuteTime": {
     "end_time": "2025-01-15T12:41:36.744925Z",
     "start_time": "2025-01-15T12:41:36.730730Z"
    }
   },
   "cell_type": "code",
   "source": [
    "df_correct = pd.read_csv(\"correct_dataset.csv\")\n",
    "df_correct.head()"
   ],
   "id": "170e5c05be56377",
   "outputs": [
    {
     "data": {
      "text/plain": [
       "  character_class                                              image\n",
       "0          Sakura  C:/Users/Ivan/PycharmProjects/image-ekukovenko...\n",
       "1          Sakura  C:/Users/Ivan/PycharmProjects/image-ekukovenko...\n",
       "2          Sakura  C:/Users/Ivan/PycharmProjects/image-ekukovenko...\n",
       "3          Naruto  C:/Users/Ivan/PycharmProjects/image-ekukovenko...\n",
       "4           Gaara  C:/Users/Ivan/PycharmProjects/image-ekukovenko..."
      ],
      "text/html": [
       "<div>\n",
       "<style scoped>\n",
       "    .dataframe tbody tr th:only-of-type {\n",
       "        vertical-align: middle;\n",
       "    }\n",
       "\n",
       "    .dataframe tbody tr th {\n",
       "        vertical-align: top;\n",
       "    }\n",
       "\n",
       "    .dataframe thead th {\n",
       "        text-align: right;\n",
       "    }\n",
       "</style>\n",
       "<table border=\"1\" class=\"dataframe\">\n",
       "  <thead>\n",
       "    <tr style=\"text-align: right;\">\n",
       "      <th></th>\n",
       "      <th>character_class</th>\n",
       "      <th>image</th>\n",
       "    </tr>\n",
       "  </thead>\n",
       "  <tbody>\n",
       "    <tr>\n",
       "      <th>0</th>\n",
       "      <td>Sakura</td>\n",
       "      <td>C:/Users/Ivan/PycharmProjects/image-ekukovenko...</td>\n",
       "    </tr>\n",
       "    <tr>\n",
       "      <th>1</th>\n",
       "      <td>Sakura</td>\n",
       "      <td>C:/Users/Ivan/PycharmProjects/image-ekukovenko...</td>\n",
       "    </tr>\n",
       "    <tr>\n",
       "      <th>2</th>\n",
       "      <td>Sakura</td>\n",
       "      <td>C:/Users/Ivan/PycharmProjects/image-ekukovenko...</td>\n",
       "    </tr>\n",
       "    <tr>\n",
       "      <th>3</th>\n",
       "      <td>Naruto</td>\n",
       "      <td>C:/Users/Ivan/PycharmProjects/image-ekukovenko...</td>\n",
       "    </tr>\n",
       "    <tr>\n",
       "      <th>4</th>\n",
       "      <td>Gaara</td>\n",
       "      <td>C:/Users/Ivan/PycharmProjects/image-ekukovenko...</td>\n",
       "    </tr>\n",
       "  </tbody>\n",
       "</table>\n",
       "</div>"
      ]
     },
     "execution_count": 31,
     "metadata": {},
     "output_type": "execute_result"
    }
   ],
   "execution_count": 31
  },
  {
   "metadata": {
    "ExecuteTime": {
     "end_time": "2025-01-15T12:41:39.353511Z",
     "start_time": "2025-01-15T12:41:39.334504Z"
    }
   },
   "cell_type": "code",
   "source": [
    "display_image(6, df_correct)\n",
    "\n",
    "# пример исправления"
   ],
   "id": "4b4d838d16178784",
   "outputs": [
    {
     "name": "stdout",
     "output_type": "stream",
     "text": [
      "Index: 6, Character Class: Gaara\n"
     ]
    },
    {
     "data": {
      "image/jpeg": "[encoded data removed]",
      "text/plain": [
       "<IPython.core.display.Image object>"
      ]
     },
     "metadata": {},
     "output_type": "display_data"
    }
   ],
   "execution_count": 32
  },
  {
   "metadata": {
    "ExecuteTime": {
     "end_time": "2025-01-15T12:41:46.261626Z",
     "start_time": "2025-01-15T12:41:46.256108Z"
    }
   },
   "cell_type": "code",
   "source": [
    "def calculate_accuracy(predicted_csv, correct_csv):\n",
    "    predicted_df = pd.read_csv(predicted_csv)\n",
    "    correct_df = pd.read_csv(correct_csv)\n",
    "\n",
    "    correct_predictions = sum(\n",
    "        predicted_df['character_class'] == correct_df['character_class']\n",
    "    )\n",
    "    total_predictions = len(correct_df)\n",
    "    accuracy = correct_predictions / total_predictions * 100\n",
    "\n",
    "    print(f\"Точность модели: {accuracy:.2f}%\")\n",
    "    print(f\"Количество ошибок: {total_predictions - correct_predictions} из {total_predictions}\")\n"
   ],
   "id": "a1534110251578a3",
   "outputs": [],
   "execution_count": 33
  },
  {
   "metadata": {
    "ExecuteTime": {
     "end_time": "2025-01-15T12:41:48.541755Z",
     "start_time": "2025-01-15T12:41:48.514200Z"
    }
   },
   "cell_type": "code",
   "source": "calculate_accuracy(\"resnet_dataset.csv\", \"correct_dataset.csv\")",
   "id": "645c2e3116df353e",
   "outputs": [
    {
     "name": "stdout",
     "output_type": "stream",
     "text": [
      "Точность модели: 73.56%\n",
      "Количество ошибок: 736 из 2784\n"
     ]
    }
   ],
   "execution_count": 34
  },
  {
   "metadata": {
    "ExecuteTime": {
     "end_time": "2025-01-15T13:15:55.390630Z",
     "start_time": "2025-01-15T13:15:55.371859Z"
    }
   },
   "cell_type": "code",
   "source": [
    "import torch\n",
    "from torch import nn, optim\n",
    "from torch.utils.data import DataLoader, Dataset\n",
    "from torchvision import transforms\n",
    "from torch.utils.tensorboard import SummaryWriter\n",
    "from PIL import Image\n",
    "import pandas as pd\n",
    "import os"
   ],
   "id": "743a6ecd5fc3fd7f",
   "outputs": [],
   "execution_count": 73
  },
  {
   "metadata": {
    "ExecuteTime": {
     "end_time": "2025-01-15T13:15:56.035613Z",
     "start_time": "2025-01-15T13:15:56.009693Z"
    }
   },
   "cell_type": "code",
   "source": [
    "labeled_csv = 'correct_dataset.csv'\n",
    "df = pd.read_csv(labeled_csv)"
   ],
   "id": "71f93ca3b9657d48",
   "outputs": [],
   "execution_count": 74
  },
  {
   "metadata": {
    "ExecuteTime": {
     "end_time": "2025-01-15T13:15:56.916332Z",
     "start_time": "2025-01-15T13:15:56.909981Z"
    }
   },
   "cell_type": "code",
   "source": [
    "class_counts = df['character_class'].value_counts()\n",
    "print(class_counts)"
   ],
   "id": "c2a62c6d59e5cb25",
   "outputs": [
    {
     "name": "stdout",
     "output_type": "stream",
     "text": [
      "character_class\n",
      "Sakura                    882\n",
      "Naruto                    356\n",
      "Gaara                     283\n",
      "Tsunade                   248\n",
      "Grandmother Chie          194\n",
      "Shikamaru                 170\n",
      "Iruka                     158\n",
      "Kankuro                   154\n",
      "Sasuke                     97\n",
      "Temari                     86\n",
      "Ebizou(Chie's brother)     57\n",
      "Teuchi(ramen)              26\n",
      "Rokku Ri                   20\n",
      "Yamato                     10\n",
      "Shizune                    10\n",
      "Ayame(ramen)               10\n",
      "Hinata                      9\n",
      "Ten-Ten                     8\n",
      "Ino                         6\n",
      "Name: count, dtype: int64\n"
     ]
    }
   ],
   "execution_count": 75
  },
  {
   "metadata": {
    "ExecuteTime": {
     "end_time": "2025-01-15T13:15:58.175845Z",
     "start_time": "2025-01-15T13:15:58.156845Z"
    }
   },
   "cell_type": "code",
   "source": [
    "X_train, X_test, y_train, y_test = train_test_split(\n",
    "    df['image'], df['character_class'], test_size=0.2, random_state=42, stratify=df['character_class']\n",
    ")\n",
    "\n",
    "print(f\"Обучающая выборка: {len(X_train)}, Тестовая выборка: {len(X_test)}\")"
   ],
   "id": "ecb66ba2edfc542f",
   "outputs": [
    {
     "name": "stdout",
     "output_type": "stream",
     "text": [
      "Обучающая выборка: 2227, Тестовая выборка: 557\n"
     ]
    }
   ],
   "execution_count": 76
  },
  {
   "metadata": {
    "ExecuteTime": {
     "end_time": "2025-01-15T13:15:59.218317Z",
     "start_time": "2025-01-15T13:15:59.212941Z"
    }
   },
   "cell_type": "code",
   "source": [
    "transform = transforms.Compose([\n",
    "    transforms.Resize((128, 128)), \n",
    "    transforms.RandomHorizontalFlip(p=0.5), \n",
    "    transforms.ColorJitter(brightness=0.2, contrast=0.2, saturation=0.2), \n",
    "    transforms.ToTensor(),\n",
    "    transforms.Normalize(mean=[0.5, 0.5, 0.5], std=[0.5, 0.5, 0.5]),\n",
    "])"
   ],
   "id": "198190af8b423a81",
   "outputs": [],
   "execution_count": 77
  },
  {
   "metadata": {
    "ExecuteTime": {
     "end_time": "2025-01-15T13:15:59.896685Z",
     "start_time": "2025-01-15T13:15:59.891025Z"
    }
   },
   "cell_type": "code",
   "source": [
    "class ImageDataset(Dataset):\n",
    "    def __init__(self, image_paths, labels, transform=None):\n",
    "        self.image_paths = image_paths\n",
    "        self.labels = labels\n",
    "        self.transform = transform\n",
    "\n",
    "    def __len__(self):\n",
    "        return len(self.image_paths)\n",
    "\n",
    "    def __getitem__(self, idx):\n",
    "        image_path = self.image_paths.iloc[idx]\n",
    "        label = self.labels.iloc[idx]\n",
    "        image = Image.open(image_path).convert('RGB')\n",
    "        if self.transform:\n",
    "            image = self.transform(image)\n",
    "        return image, class_names.index(label)"
   ],
   "id": "6858d02892715d8e",
   "outputs": [],
   "execution_count": 78
  },
  {
   "metadata": {
    "ExecuteTime": {
     "end_time": "2025-01-15T13:16:00.705295Z",
     "start_time": "2025-01-15T13:16:00.698763Z"
    }
   },
   "cell_type": "code",
   "source": [
    "class_names = sorted(df['character_class'].unique().tolist())\n",
    "class_names"
   ],
   "id": "1ff29d8051137c22",
   "outputs": [
    {
     "data": {
      "text/plain": [
       "['Ayame(ramen)',\n",
       " \"Ebizou(Chie's brother)\",\n",
       " 'Gaara',\n",
       " 'Grandmother Chie',\n",
       " 'Hinata',\n",
       " 'Ino',\n",
       " 'Iruka',\n",
       " 'Kankuro',\n",
       " 'Naruto',\n",
       " 'Rokku Ri',\n",
       " 'Sakura',\n",
       " 'Sasuke',\n",
       " 'Shikamaru',\n",
       " 'Shizune',\n",
       " 'Temari',\n",
       " 'Ten-Ten',\n",
       " 'Teuchi(ramen)',\n",
       " 'Tsunade',\n",
       " 'Yamato']"
      ]
     },
     "execution_count": 79,
     "metadata": {},
     "output_type": "execute_result"
    }
   ],
   "execution_count": 79
  },
  {
   "metadata": {
    "ExecuteTime": {
     "end_time": "2025-01-15T13:16:01.611160Z",
     "start_time": "2025-01-15T13:16:01.599917Z"
    }
   },
   "cell_type": "code",
   "source": [
    "train_dataset = ImageDataset(X_train, y_train, transform=transform)\n",
    "test_dataset = ImageDataset(X_test, y_test, transform=transform)\n",
    "\n",
    "batch_size = 32\n",
    "train_loader = DataLoader(train_dataset, batch_size=batch_size, shuffle=True)\n",
    "test_loader = DataLoader(test_dataset, batch_size=batch_size, shuffle=False)"
   ],
   "id": "7df084913f5dc8a8",
   "outputs": [],
   "execution_count": 80
  },
  {
   "metadata": {
    "ExecuteTime": {
     "end_time": "2025-01-15T13:16:02.609577Z",
     "start_time": "2025-01-15T13:16:02.587395Z"
    }
   },
   "cell_type": "code",
   "source": [
    "class CustomCNN(nn.Module):\n",
    "    def __init__(self, num_classes):\n",
    "        super(CustomCNN, self).__init__()\n",
    "        self.conv_layers = nn.Sequential(\n",
    "            nn.Conv2d(3, 32, kernel_size=5, stride=1, padding=2),  \n",
    "            nn.ReLU(),\n",
    "            nn.BatchNorm2d(32),\n",
    "            nn.MaxPool2d(kernel_size=2, stride=2),  \n",
    "            \n",
    "            nn.Conv2d(32, 64, kernel_size=5, stride=1, padding=2),  \n",
    "            nn.ReLU(),\n",
    "            nn.BatchNorm2d(64),\n",
    "            nn.MaxPool2d(kernel_size=2, stride=2),  \n",
    "\n",
    "            nn.Conv2d(64, 128, kernel_size=3, stride=1, padding=1),  \n",
    "            nn.ReLU(),\n",
    "            nn.BatchNorm2d(128),\n",
    "            nn.MaxPool2d(kernel_size=2, stride=2),  \n",
    "\n",
    "            nn.Conv2d(128, 256, kernel_size=3, stride=1, padding=1),  \n",
    "            nn.ReLU(),\n",
    "            nn.BatchNorm2d(256),\n",
    "            nn.MaxPool2d(kernel_size=2, stride=2),  \n",
    "            \n",
    "            nn.Conv2d(256, 512, kernel_size=8, stride=1, padding=0),  \n",
    "            nn.ReLU(),\n",
    "            nn.BatchNorm2d(512)\n",
    "        )\n",
    "        self.fc_layers = nn.Sequential(\n",
    "            nn.Flatten(),\n",
    "            nn.Linear(512, 256),  \n",
    "            nn.ReLU(),\n",
    "            nn.Dropout(0.5),  \n",
    "            nn.Linear(256, num_classes)  \n",
    "        )\n",
    "\n",
    "    def forward(self, x, return_embedding=False):\n",
    "        x = self.conv_layers(x)\n",
    "        if return_embedding:\n",
    "            return x\n",
    "        x = self.fc_layers(x)\n",
    "        return x\n"
   ],
   "id": "d48fc076e8523fe6",
   "outputs": [],
   "execution_count": 81
  },
  {
   "metadata": {
    "ExecuteTime": {
     "end_time": "2025-01-15T13:16:03.799402Z",
     "start_time": "2025-01-15T13:16:03.790757Z"
    }
   },
   "cell_type": "code",
   "source": "num_classes = len(class_names)",
   "id": "92da8e0202137e57",
   "outputs": [],
   "execution_count": 82
  },
  {
   "metadata": {
    "ExecuteTime": {
     "end_time": "2025-01-15T13:16:04.544033Z",
     "start_time": "2025-01-15T13:16:04.452350Z"
    }
   },
   "cell_type": "code",
   "source": [
    "model = CustomCNN(num_classes)\n",
    "model = model.to(device)\n",
    "print(model)"
   ],
   "id": "1fc075fee74c187",
   "outputs": [
    {
     "name": "stdout",
     "output_type": "stream",
     "text": [
      "CustomCNN(\n",
      "  (conv_layers): Sequential(\n",
      "    (0): Conv2d(3, 32, kernel_size=(5, 5), stride=(1, 1), padding=(2, 2))\n",
      "    (1): ReLU()\n",
      "    (2): BatchNorm2d(32, eps=1e-05, momentum=0.1, affine=True, track_running_stats=True)\n",
      "    (3): MaxPool2d(kernel_size=2, stride=2, padding=0, dilation=1, ceil_mode=False)\n",
      "    (4): Conv2d(32, 64, kernel_size=(5, 5), stride=(1, 1), padding=(2, 2))\n",
      "    (5): ReLU()\n",
      "    (6): BatchNorm2d(64, eps=1e-05, momentum=0.1, affine=True, track_running_stats=True)\n",
      "    (7): MaxPool2d(kernel_size=2, stride=2, padding=0, dilation=1, ceil_mode=False)\n",
      "    (8): Conv2d(64, 128, kernel_size=(3, 3), stride=(1, 1), padding=(1, 1))\n",
      "    (9): ReLU()\n",
      "    (10): BatchNorm2d(128, eps=1e-05, momentum=0.1, affine=True, track_running_stats=True)\n",
      "    (11): MaxPool2d(kernel_size=2, stride=2, padding=0, dilation=1, ceil_mode=False)\n",
      "    (12): Conv2d(128, 256, kernel_size=(3, 3), stride=(1, 1), padding=(1, 1))\n",
      "    (13): ReLU()\n",
      "    (14): BatchNorm2d(256, eps=1e-05, momentum=0.1, affine=True, track_running_stats=True)\n",
      "    (15): MaxPool2d(kernel_size=2, stride=2, padding=0, dilation=1, ceil_mode=False)\n",
      "    (16): Conv2d(256, 512, kernel_size=(8, 8), stride=(1, 1))\n",
      "    (17): ReLU()\n",
      "    (18): BatchNorm2d(512, eps=1e-05, momentum=0.1, affine=True, track_running_stats=True)\n",
      "  )\n",
      "  (fc_layers): Sequential(\n",
      "    (0): Flatten(start_dim=1, end_dim=-1)\n",
      "    (1): Linear(in_features=512, out_features=256, bias=True)\n",
      "    (2): ReLU()\n",
      "    (3): Dropout(p=0.5, inplace=False)\n",
      "    (4): Linear(in_features=256, out_features=19, bias=True)\n",
      "  )\n",
      ")\n"
     ]
    }
   ],
   "execution_count": 83
  },
  {
   "metadata": {
    "ExecuteTime": {
     "end_time": "2025-01-15T13:16:07.998731Z",
     "start_time": "2025-01-15T13:16:07.988387Z"
    }
   },
   "cell_type": "code",
   "source": [
    "criterion = nn.CrossEntropyLoss()\n",
    "optimizer = optim.Adam(model.parameters(), lr=0.001)\n",
    "writer = SummaryWriter()"
   ],
   "id": "c66a5ced2c3bf2c8",
   "outputs": [],
   "execution_count": 84
  },
  {
   "metadata": {
    "ExecuteTime": {
     "end_time": "2025-01-15T13:21:24.188966Z",
     "start_time": "2025-01-15T13:16:08.898723Z"
    }
   },
   "cell_type": "code",
   "source": [
    "num_epochs = 30\n",
    "train_losses, train_accuracies = [], []\n",
    "test_losses, test_accuracies = [], []\n",
    "writer = SummaryWriter()\n",
    "\n",
    "start_time_my_model = time.time()\n",
    "\n",
    "for epoch in range(1, num_epochs + 1):\n",
    "    model.train()\n",
    "    running_loss, correct, total = 0.0, 0, 0\n",
    "\n",
    "    for inputs, labels in train_loader:\n",
    "        inputs, labels = inputs.to(device), labels.to(device)\n",
    "        optimizer.zero_grad()\n",
    "        outputs = model(inputs)\n",
    "        loss = criterion(outputs, labels)\n",
    "        loss.backward()\n",
    "        optimizer.step()\n",
    "\n",
    "        running_loss += loss.item()\n",
    "        _, preds = torch.max(outputs, 1)\n",
    "        correct += (preds == labels).sum().item()\n",
    "        total += labels.size(0)\n",
    "\n",
    "    train_loss = running_loss / len(train_loader)\n",
    "    train_accuracy = correct / total\n",
    "    train_losses.append(train_loss)\n",
    "    train_accuracies.append(train_accuracy)\n",
    "\n",
    "    model.eval()\n",
    "    test_loss, correct_test, total_test = 0.0, 0, 0\n",
    "\n",
    "    with torch.no_grad():\n",
    "        for inputs, labels in test_loader:\n",
    "            inputs, labels = inputs.to(device), labels.to(device)\n",
    "            outputs = model(inputs)\n",
    "            loss = criterion(outputs, labels)\n",
    "\n",
    "            test_loss += loss.item()\n",
    "            _, preds = torch.max(outputs, 1)\n",
    "            correct_test += (preds == labels).sum().item()\n",
    "            total_test += labels.size(0)\n",
    "\n",
    "    test_loss /= len(test_loader)\n",
    "    test_accuracy = correct_test / total_test\n",
    "    test_losses.append(test_loss)\n",
    "    test_accuracies.append(test_accuracy)\n",
    "\n",
    "    writer.add_scalar('Loss/Train', train_loss, epoch)\n",
    "    writer.add_scalar('Accuracy/Train', train_accuracy, epoch)\n",
    "    writer.add_scalar('Loss/Test', test_loss, epoch)\n",
    "    writer.add_scalar('Accuracy/Test', test_accuracy, epoch)\n",
    "\n",
    "    print(f'Epoch [{epoch}/{num_epochs}] '\n",
    "          f'Train Loss: {train_loss:.4f}, Train Acc: {train_accuracy:.4f} | '\n",
    "          f'Test Loss: {test_loss:.4f}, Test Acc: {test_accuracy:.4f}')\n",
    "    \n",
    "end_time_my_model = time.time()\n",
    "\n",
    "writer.close()\n",
    "torch.save(model.state_dict(), 'custom_cnn_model.pth')"
   ],
   "id": "42612d6b330cf727",
   "outputs": [
    {
     "name": "stdout",
     "output_type": "stream",
     "text": [
      "Epoch [1/30] Train Loss: 1.0782, Train Acc: 0.7036 | Test Loss: 0.3889, Test Acc: 0.8815\n",
      "Epoch [2/30] Train Loss: 0.3678, Train Acc: 0.9003 | Test Loss: 0.2382, Test Acc: 0.9210\n",
      "Epoch [3/30] Train Loss: 0.2570, Train Acc: 0.9219 | Test Loss: 0.1373, Test Acc: 0.9695\n",
      "Epoch [4/30] Train Loss: 0.1697, Train Acc: 0.9551 | Test Loss: 0.1279, Test Acc: 0.9605\n",
      "Epoch [5/30] Train Loss: 0.1231, Train Acc: 0.9659 | Test Loss: 0.1373, Test Acc: 0.9641\n",
      "Epoch [6/30] Train Loss: 0.0994, Train Acc: 0.9731 | Test Loss: 0.0910, Test Acc: 0.9820\n",
      "Epoch [7/30] Train Loss: 0.0705, Train Acc: 0.9802 | Test Loss: 0.0967, Test Acc: 0.9785\n",
      "Epoch [8/30] Train Loss: 0.0941, Train Acc: 0.9722 | Test Loss: 0.1269, Test Acc: 0.9803\n",
      "Epoch [9/30] Train Loss: 0.0797, Train Acc: 0.9793 | Test Loss: 0.1289, Test Acc: 0.9659\n",
      "Epoch [10/30] Train Loss: 0.1128, Train Acc: 0.9713 | Test Loss: 0.1758, Test Acc: 0.9695\n",
      "Epoch [11/30] Train Loss: 0.0999, Train Acc: 0.9677 | Test Loss: 0.1368, Test Acc: 0.9749\n",
      "Epoch [12/30] Train Loss: 0.0571, Train Acc: 0.9865 | Test Loss: 0.1583, Test Acc: 0.9749\n",
      "Epoch [13/30] Train Loss: 0.0715, Train Acc: 0.9834 | Test Loss: 0.1428, Test Acc: 0.9767\n",
      "Epoch [14/30] Train Loss: 0.0624, Train Acc: 0.9825 | Test Loss: 0.1908, Test Acc: 0.9677\n",
      "Epoch [15/30] Train Loss: 0.0929, Train Acc: 0.9771 | Test Loss: 0.1488, Test Acc: 0.9659\n",
      "Epoch [16/30] Train Loss: 0.1210, Train Acc: 0.9587 | Test Loss: 0.2382, Test Acc: 0.9479\n",
      "Epoch [17/30] Train Loss: 0.0829, Train Acc: 0.9775 | Test Loss: 0.1102, Test Acc: 0.9785\n",
      "Epoch [18/30] Train Loss: 0.0479, Train Acc: 0.9838 | Test Loss: 0.1322, Test Acc: 0.9767\n",
      "Epoch [19/30] Train Loss: 0.0355, Train Acc: 0.9892 | Test Loss: 0.1199, Test Acc: 0.9838\n",
      "Epoch [20/30] Train Loss: 0.0359, Train Acc: 0.9906 | Test Loss: 0.1192, Test Acc: 0.9785\n",
      "Epoch [21/30] Train Loss: 0.0407, Train Acc: 0.9856 | Test Loss: 0.1091, Test Acc: 0.9820\n",
      "Epoch [22/30] Train Loss: 0.0351, Train Acc: 0.9924 | Test Loss: 0.1989, Test Acc: 0.9605\n",
      "Epoch [23/30] Train Loss: 0.0420, Train Acc: 0.9883 | Test Loss: 0.1782, Test Acc: 0.9749\n",
      "Epoch [24/30] Train Loss: 0.0321, Train Acc: 0.9897 | Test Loss: 0.2180, Test Acc: 0.9785\n",
      "Epoch [25/30] Train Loss: 0.0296, Train Acc: 0.9919 | Test Loss: 0.1453, Test Acc: 0.9767\n",
      "Epoch [26/30] Train Loss: 0.0540, Train Acc: 0.9861 | Test Loss: 0.1463, Test Acc: 0.9785\n",
      "Epoch [27/30] Train Loss: 0.0301, Train Acc: 0.9897 | Test Loss: 0.1152, Test Acc: 0.9785\n",
      "Epoch [28/30] Train Loss: 0.0682, Train Acc: 0.9829 | Test Loss: 0.2631, Test Acc: 0.9282\n",
      "Epoch [29/30] Train Loss: 0.0805, Train Acc: 0.9767 | Test Loss: 0.1135, Test Acc: 0.9767\n",
      "Epoch [30/30] Train Loss: 0.0430, Train Acc: 0.9865 | Test Loss: 0.1229, Test Acc: 0.9803\n"
     ]
    }
   ],
   "execution_count": 85
  },
  {
   "metadata": {
    "ExecuteTime": {
     "end_time": "2025-01-15T13:21:32.985982Z",
     "start_time": "2025-01-15T13:21:32.969816Z"
    }
   },
   "cell_type": "code",
   "source": [
    "print(end_time_my_model - start_time_my_model)\n",
    "\n",
    "# 5 минут"
   ],
   "id": "8fd82ab455a76e0a",
   "outputs": [
    {
     "name": "stdout",
     "output_type": "stream",
     "text": [
      "315.19393014907837\n"
     ]
    }
   ],
   "execution_count": 86
  },
  {
   "metadata": {
    "ExecuteTime": {
     "end_time": "2025-01-15T13:21:53.512643Z",
     "start_time": "2025-01-15T13:21:50.163909Z"
    }
   },
   "cell_type": "code",
   "source": [
    "model.eval()\n",
    "all_preds, all_targets = [], []\n",
    "with torch.no_grad():\n",
    "    for inputs, labels in test_loader:\n",
    "        inputs, labels = inputs.to(device), labels.to(device)\n",
    "        outputs = model(inputs)\n",
    "        _, preds = torch.max(outputs, 1)\n",
    "        all_preds.extend(preds.cpu().numpy())\n",
    "        all_targets.extend(labels.cpu().numpy())\n",
    "\n",
    "print(classification_report(all_targets, all_preds, target_names=class_names))"
   ],
   "id": "96e236cec5996c7c",
   "outputs": [
    {
     "name": "stdout",
     "output_type": "stream",
     "text": [
      "                        precision    recall  f1-score   support\n",
      "\n",
      "          Ayame(ramen)       1.00      1.00      1.00         2\n",
      "Ebizou(Chie's brother)       1.00      1.00      1.00        11\n",
      "                 Gaara       1.00      0.98      0.99        57\n",
      "      Grandmother Chie       1.00      1.00      1.00        39\n",
      "                Hinata       1.00      1.00      1.00         2\n",
      "                   Ino       0.00      0.00      0.00         1\n",
      "                 Iruka       0.97      1.00      0.98        32\n",
      "               Kankuro       0.97      1.00      0.98        31\n",
      "                Naruto       0.96      0.96      0.96        71\n",
      "              Rokku Ri       1.00      1.00      1.00         4\n",
      "                Sakura       0.99      0.97      0.98       176\n",
      "                Sasuke       0.94      0.89      0.92        19\n",
      "             Shikamaru       0.89      1.00      0.94        34\n",
      "               Shizune       1.00      1.00      1.00         2\n",
      "                Temari       1.00      0.94      0.97        17\n",
      "               Ten-Ten       1.00      1.00      1.00         2\n",
      "         Teuchi(ramen)       1.00      1.00      1.00         5\n",
      "               Tsunade       0.92      0.96      0.94        50\n",
      "                Yamato       1.00      1.00      1.00         2\n",
      "\n",
      "              accuracy                           0.97       557\n",
      "             macro avg       0.93      0.93      0.93       557\n",
      "          weighted avg       0.97      0.97      0.97       557\n",
      "\n"
     ]
    },
    {
     "name": "stderr",
     "output_type": "stream",
     "text": [
      "C:\\Users\\Ivan\\AppData\\Local\\Programs\\Python\\Python312\\Lib\\site-packages\\sklearn\\metrics\\_classification.py:1531: UndefinedMetricWarning: Precision is ill-defined and being set to 0.0 in labels with no predicted samples. Use `zero_division` parameter to control this behavior.\n",
      "  _warn_prf(average, modifier, f\"{metric.capitalize()} is\", len(result))\n",
      "C:\\Users\\Ivan\\AppData\\Local\\Programs\\Python\\Python312\\Lib\\site-packages\\sklearn\\metrics\\_classification.py:1531: UndefinedMetricWarning: Precision is ill-defined and being set to 0.0 in labels with no predicted samples. Use `zero_division` parameter to control this behavior.\n",
      "  _warn_prf(average, modifier, f\"{metric.capitalize()} is\", len(result))\n",
      "C:\\Users\\Ivan\\AppData\\Local\\Programs\\Python\\Python312\\Lib\\site-packages\\sklearn\\metrics\\_classification.py:1531: UndefinedMetricWarning: Precision is ill-defined and being set to 0.0 in labels with no predicted samples. Use `zero_division` parameter to control this behavior.\n",
      "  _warn_prf(average, modifier, f\"{metric.capitalize()} is\", len(result))\n"
     ]
    }
   ],
   "execution_count": 87
  },
  {
   "metadata": {
    "ExecuteTime": {
     "end_time": "2025-01-15T13:22:11.710365Z",
     "start_time": "2025-01-15T13:22:08.071322Z"
    }
   },
   "cell_type": "code",
   "source": [
    "import numpy as np\n",
    "\n",
    "model.eval()\n",
    "embeddings, labels = [], []\n",
    "\n",
    "with torch.no_grad():\n",
    "    for inputs, targets in test_loader:\n",
    "        inputs = inputs.to(device)\n",
    "        targets = targets.to(device)\n",
    "        \n",
    "        embedding = model(inputs, return_embedding=True)\n",
    "        embeddings.append(embedding.cpu().numpy())\n",
    "        labels.extend(targets.cpu().numpy())\n",
    "        \n",
    "embeddings = np.concatenate(embeddings, axis=0)\n",
    "labels = np.array(labels)"
   ],
   "id": "68cb68f150e1df67",
   "outputs": [],
   "execution_count": 88
  },
  {
   "metadata": {
    "ExecuteTime": {
     "end_time": "2025-01-15T13:22:13.637718Z",
     "start_time": "2025-01-15T13:22:13.630137Z"
    }
   },
   "cell_type": "code",
   "source": [
    "if len(embeddings.shape) == 4:\n",
    "    batch_size, channels, height, width = embeddings.shape\n",
    "    embeddings = embeddings.reshape(batch_size, -1)"
   ],
   "id": "bfbace5cb249854",
   "outputs": [],
   "execution_count": 89
  },
  {
   "metadata": {
    "ExecuteTime": {
     "end_time": "2025-01-15T13:22:19.742998Z",
     "start_time": "2025-01-15T13:22:15.705311Z"
    }
   },
   "cell_type": "code",
   "source": [
    "tsne = TSNE(n_components=2, random_state=42, perplexity=30, max_iter=1000)\n",
    "tsne_embeddings = tsne.fit_transform(embeddings)\n",
    "\n",
    "plt.figure(figsize=(10, 8))\n",
    "scatter = plt.scatter(tsne_embeddings[:, 0], tsne_embeddings[:, 1], c=labels, cmap='tab10', alpha=0.8)\n",
    "plt.colorbar(scatter, ticks=range(len(class_names)), label='Class')\n",
    "plt.title(\"t-SNE\")\n",
    "plt.xlabel(\"Dimension 1\")\n",
    "plt.ylabel(\"Dimension 2\")\n",
    "plt.show()"
   ],
   "id": "efbbf46b035c554a",
   "outputs": [
    {
     "data": {
      "text/plain": [
       "<Figure size 1000x800 with 2 Axes>"
      ],
      "image/png": "[encoded data removed]"
     },
     "metadata": {},
     "output_type": "display_data"
    }
   ],
   "execution_count": 90
  },
  {
   "metadata": {
    "ExecuteTime": {
     "end_time": "2025-01-15T13:22:32.079792Z",
     "start_time": "2025-01-15T13:22:32.071065Z"
    }
   },
   "cell_type": "code",
   "source": [
    "# дообучу свой старый реснет\n",
    "\n",
    "class ResNet(nn.Module):\n",
    "    def __init__(self, num_classes):\n",
    "        super(ResNet, self).__init__()\n",
    "        self.base_model = models.resnet50(weights=None)\n",
    "        self.num_features = self.base_model.fc.in_features\n",
    "        self.base_model.fc = nn.Identity()\n",
    "        self.fc = nn.Linear(self.num_features, num_classes)\n",
    "    \n",
    "    def forward(self, x, return_embedding=False):\n",
    "        features = self.base_model(x)\n",
    "        if return_embedding:\n",
    "            return features\n",
    "        x = self.fc(features)\n",
    "        return x"
   ],
   "id": "3f038d43aa452032",
   "outputs": [],
   "execution_count": 91
  },
  {
   "metadata": {
    "ExecuteTime": {
     "end_time": "2025-01-15T13:22:33.974Z",
     "start_time": "2025-01-15T13:22:32.862689Z"
    }
   },
   "cell_type": "code",
   "source": [
    "model = ResNet(num_classes)\n",
    "checkpoint = torch.load(\"resnet_model_for_markup.pth\")\n",
    "filtered_checkpoint = {k: v for k, v in checkpoint.items() if \"fc\" not in k}\n",
    "model.load_state_dict(filtered_checkpoint, strict=False)\n",
    "\n",
    "device = torch.device(\"cuda\" if torch.cuda.is_available() else \"cpu\")\n",
    "print(f\"Using device: {device}\")\n",
    "\n",
    "model = model.to(device)\n"
   ],
   "id": "ae3926d05b99339f",
   "outputs": [
    {
     "name": "stderr",
     "output_type": "stream",
     "text": [
      "C:\\Users\\Ivan\\AppData\\Local\\Temp\\ipykernel_15096\\2114162890.py:2: FutureWarning: You are using `torch.load` with `weights_only=False` (the current default value), which uses the default pickle module implicitly. It is possible to construct malicious pickle data which will execute arbitrary code during unpickling (See https://github.com/pytorch/pytorch/blob/main/SECURITY.md#untrusted-models for more details). In a future release, the default value for `weights_only` will be flipped to `True`. This limits the functions that could be executed during unpickling. Arbitrary objects will no longer be allowed to be loaded via this mode unless they are explicitly allowlisted by the user via `torch.serialization.add_safe_globals`. We recommend you start setting `weights_only=True` for any use case where you don't have full control of the loaded file. Please open an issue on GitHub for any issues related to this experimental feature.\n",
      "  checkpoint = torch.load(\"resnet_model_for_markup.pth\")\n"
     ]
    },
    {
     "name": "stdout",
     "output_type": "stream",
     "text": [
      "Using device: cuda\n"
     ]
    }
   ],
   "execution_count": 92
  },
  {
   "metadata": {
    "ExecuteTime": {
     "end_time": "2025-01-15T13:22:35.037981Z",
     "start_time": "2025-01-15T13:22:35.032670Z"
    }
   },
   "cell_type": "code",
   "source": [
    "criterion = nn.CrossEntropyLoss()\n",
    "optimizer = optim.Adam(model.parameters(), lr=0.0001)"
   ],
   "id": "c8b3c9da2d75867d",
   "outputs": [],
   "execution_count": 93
  },
  {
   "metadata": {
    "ExecuteTime": {
     "end_time": "2025-01-15T13:22:36.035667Z",
     "start_time": "2025-01-15T13:22:36.030305Z"
    }
   },
   "cell_type": "code",
   "source": [
    "transform = transforms.Compose([\n",
    "    transforms.Resize((224, 224)),\n",
    "    transforms.ToTensor(),\n",
    "])"
   ],
   "id": "a8a4cc41a2c73fa8",
   "outputs": [],
   "execution_count": 94
  },
  {
   "metadata": {
    "ExecuteTime": {
     "end_time": "2025-01-15T13:22:37.102020Z",
     "start_time": "2025-01-15T13:22:37.094966Z"
    }
   },
   "cell_type": "code",
   "source": [
    "class ImageDataset(Dataset):\n",
    "    def __init__(self, image_paths, labels, transform=None):\n",
    "        self.image_paths = image_paths\n",
    "        self.labels = labels\n",
    "        self.transform = transform\n",
    "\n",
    "    def __len__(self):\n",
    "        return len(self.image_paths)\n",
    "\n",
    "    def __getitem__(self, idx):\n",
    "        image_path = self.image_paths.iloc[idx]\n",
    "        label = self.labels.iloc[idx]\n",
    "        image = Image.open(image_path).convert('RGB')\n",
    "        if self.transform:\n",
    "            image = self.transform(image)\n",
    "        return image, class_names.index(label)"
   ],
   "id": "335dfcf435debbd1",
   "outputs": [],
   "execution_count": 95
  },
  {
   "metadata": {
    "ExecuteTime": {
     "end_time": "2025-01-15T13:22:37.934093Z",
     "start_time": "2025-01-15T13:22:37.928127Z"
    }
   },
   "cell_type": "code",
   "source": [
    "train_dataset = ImageDataset(X_train, y_train, transform=transform)\n",
    "test_dataset = ImageDataset(X_test, y_test, transform=transform)\n",
    "\n",
    "train_loader = DataLoader(train_dataset, batch_size=32, shuffle=True)\n",
    "test_loader = DataLoader(test_dataset, batch_size=32, shuffle=False)"
   ],
   "id": "39a9b7cb321d9db3",
   "outputs": [],
   "execution_count": 96
  },
  {
   "metadata": {
    "ExecuteTime": {
     "end_time": "2025-01-15T13:36:48.806893Z",
     "start_time": "2025-01-15T13:22:39.164996Z"
    }
   },
   "cell_type": "code",
   "source": [
    "num_epochs = 30\n",
    "train_losses, train_accuracies = [], []\n",
    "test_losses, test_accuracies = [], []\n",
    "writer_resnet = SummaryWriter()\n",
    "\n",
    "start_time_resnet = time.time()\n",
    "\n",
    "for epoch in range(1, num_epochs + 1):\n",
    "    model.train()\n",
    "    running_loss, correct, total = 0.0, 0, 0\n",
    "\n",
    "    for inputs, labels in train_loader:\n",
    "        inputs, labels = inputs.to(device), labels.to(device)\n",
    "        optimizer.zero_grad()\n",
    "        outputs = model(inputs)\n",
    "        loss = criterion(outputs, labels)\n",
    "        loss.backward()\n",
    "        optimizer.step()\n",
    "\n",
    "        running_loss += loss.item()\n",
    "        _, preds = torch.max(outputs, 1)\n",
    "        correct += (preds == labels).sum().item()\n",
    "        total += labels.size(0)\n",
    "\n",
    "    train_loss = running_loss / len(train_loader)\n",
    "    train_accuracy = correct / total\n",
    "    train_losses.append(train_loss)\n",
    "    train_accuracies.append(train_accuracy)\n",
    "\n",
    "    model.eval()\n",
    "    test_loss, correct_test, total_test = 0.0, 0, 0\n",
    "\n",
    "    with torch.no_grad():\n",
    "        for inputs, labels in test_loader:\n",
    "            inputs, labels = inputs.to(device), labels.to(device)\n",
    "            outputs = model(inputs)\n",
    "            loss = criterion(outputs, labels)\n",
    "\n",
    "            test_loss += loss.item()\n",
    "            _, preds = torch.max(outputs, 1)\n",
    "            correct_test += (preds == labels).sum().item()\n",
    "            total_test += labels.size(0)\n",
    "\n",
    "    test_loss /= len(test_loader)\n",
    "    test_accuracy = correct_test / total_test\n",
    "    test_losses.append(test_loss)\n",
    "    test_accuracies.append(test_accuracy)\n",
    "\n",
    "    writer_resnet.add_scalar('Loss/Train', train_loss, epoch)\n",
    "    writer_resnet.add_scalar('Accuracy/Train', train_accuracy, epoch)\n",
    "    writer_resnet.add_scalar('Loss/Test', test_loss, epoch)\n",
    "    writer_resnet.add_scalar('Accuracy/Test', test_accuracy, epoch)\n",
    "\n",
    "    print(f'Epoch [{epoch}/{num_epochs}] '\n",
    "          f'Train Loss: {train_loss:.4f}, Train Acc: {train_accuracy:.4f} | '\n",
    "          f'Test Loss: {test_loss:.4f}, Test Acc: {test_accuracy:.4f}')\n",
    "    \n",
    "end_time_resnet = time.time()\n",
    "\n",
    "writer_resnet.close()\n",
    "torch.save(model.state_dict(), 'resnet_main_model.pth')"
   ],
   "id": "a1016af16e76c4a9",
   "outputs": [
    {
     "name": "stdout",
     "output_type": "stream",
     "text": [
      "Epoch [1/30] Train Loss: 1.6867, Train Acc: 0.4755 | Test Loss: 1.7417, Test Acc: 0.4919\n",
      "Epoch [2/30] Train Loss: 0.6890, Train Acc: 0.8159 | Test Loss: 0.7310, Test Acc: 0.7487\n",
      "Epoch [3/30] Train Loss: 0.3534, Train Acc: 0.9070 | Test Loss: 0.4248, Test Acc: 0.8671\n",
      "Epoch [4/30] Train Loss: 0.1971, Train Acc: 0.9529 | Test Loss: 0.3715, Test Acc: 0.8995\n",
      "Epoch [5/30] Train Loss: 0.1412, Train Acc: 0.9659 | Test Loss: 0.2063, Test Acc: 0.9497\n",
      "Epoch [6/30] Train Loss: 0.1183, Train Acc: 0.9740 | Test Loss: 0.2765, Test Acc: 0.9031\n",
      "Epoch [7/30] Train Loss: 0.1181, Train Acc: 0.9690 | Test Loss: 0.7922, Test Acc: 0.8205\n",
      "Epoch [8/30] Train Loss: 0.0895, Train Acc: 0.9780 | Test Loss: 0.6416, Test Acc: 0.8348\n",
      "Epoch [9/30] Train Loss: 0.0763, Train Acc: 0.9780 | Test Loss: 0.2156, Test Acc: 0.9497\n",
      "Epoch [10/30] Train Loss: 0.0592, Train Acc: 0.9843 | Test Loss: 0.2173, Test Acc: 0.9318\n",
      "Epoch [11/30] Train Loss: 0.0469, Train Acc: 0.9892 | Test Loss: 0.2268, Test Acc: 0.9425\n",
      "Epoch [12/30] Train Loss: 0.0501, Train Acc: 0.9901 | Test Loss: 0.1856, Test Acc: 0.9533\n",
      "Epoch [13/30] Train Loss: 0.0347, Train Acc: 0.9906 | Test Loss: 0.1051, Test Acc: 0.9749\n",
      "Epoch [14/30] Train Loss: 0.0519, Train Acc: 0.9879 | Test Loss: 0.1833, Test Acc: 0.9497\n",
      "Epoch [15/30] Train Loss: 0.0508, Train Acc: 0.9901 | Test Loss: 0.4026, Test Acc: 0.8761\n",
      "Epoch [16/30] Train Loss: 0.0584, Train Acc: 0.9838 | Test Loss: 0.8318, Test Acc: 0.8043\n",
      "Epoch [17/30] Train Loss: 0.0493, Train Acc: 0.9865 | Test Loss: 0.1869, Test Acc: 0.9587\n",
      "Epoch [18/30] Train Loss: 0.0291, Train Acc: 0.9937 | Test Loss: 0.0925, Test Acc: 0.9803\n",
      "Epoch [19/30] Train Loss: 0.0418, Train Acc: 0.9888 | Test Loss: 0.1095, Test Acc: 0.9749\n",
      "Epoch [20/30] Train Loss: 0.0362, Train Acc: 0.9897 | Test Loss: 0.2422, Test Acc: 0.9210\n",
      "Epoch [21/30] Train Loss: 0.0428, Train Acc: 0.9897 | Test Loss: 0.1772, Test Acc: 0.9677\n",
      "Epoch [22/30] Train Loss: 0.0404, Train Acc: 0.9879 | Test Loss: 0.1767, Test Acc: 0.9587\n",
      "Epoch [23/30] Train Loss: 0.0265, Train Acc: 0.9933 | Test Loss: 0.0841, Test Acc: 0.9838\n",
      "Epoch [24/30] Train Loss: 0.0238, Train Acc: 0.9946 | Test Loss: 0.1158, Test Acc: 0.9749\n",
      "Epoch [25/30] Train Loss: 0.0241, Train Acc: 0.9951 | Test Loss: 0.0763, Test Acc: 0.9856\n",
      "Epoch [26/30] Train Loss: 0.0159, Train Acc: 0.9951 | Test Loss: 0.0890, Test Acc: 0.9838\n",
      "Epoch [27/30] Train Loss: 0.0182, Train Acc: 0.9960 | Test Loss: 0.0827, Test Acc: 0.9820\n",
      "Epoch [28/30] Train Loss: 0.0171, Train Acc: 0.9955 | Test Loss: 0.0867, Test Acc: 0.9803\n",
      "Epoch [29/30] Train Loss: 0.0141, Train Acc: 0.9960 | Test Loss: 0.0784, Test Acc: 0.9856\n",
      "Epoch [30/30] Train Loss: 0.0267, Train Acc: 0.9924 | Test Loss: 0.1488, Test Acc: 0.9659\n"
     ]
    }
   ],
   "execution_count": 97
  },
  {
   "metadata": {
    "ExecuteTime": {
     "end_time": "2025-01-15T13:38:21.701803Z",
     "start_time": "2025-01-15T13:38:21.696012Z"
    }
   },
   "cell_type": "code",
   "source": [
    "print(end_time_resnet - start_time_resnet)\n",
    "\n",
    "# почти 15 минут - это в три раза дольше чем моя модель"
   ],
   "id": "eaa42e4ff9e7af4e",
   "outputs": [
    {
     "name": "stdout",
     "output_type": "stream",
     "text": [
      "849.4626924991608\n"
     ]
    }
   ],
   "execution_count": 99
  },
  {
   "metadata": {
    "ExecuteTime": {
     "end_time": "2025-01-15T13:37:03.039398Z",
     "start_time": "2025-01-15T13:36:58.786146Z"
    }
   },
   "cell_type": "code",
   "source": [
    "model.eval()\n",
    "all_preds, all_targets = [], []\n",
    "with torch.no_grad():\n",
    "    for inputs, labels in test_loader:\n",
    "        inputs, labels = inputs.to(device), labels.to(device)\n",
    "        outputs = model(inputs)\n",
    "        _, preds = torch.max(outputs, 1)\n",
    "        all_preds.extend(preds.cpu().numpy())\n",
    "        all_targets.extend(labels.cpu().numpy())\n",
    "\n",
    "print(classification_report(all_targets, all_preds, target_names=class_names))"
   ],
   "id": "c75895b060b2432a",
   "outputs": [
    {
     "name": "stdout",
     "output_type": "stream",
     "text": [
      "                        precision    recall  f1-score   support\n",
      "\n",
      "          Ayame(ramen)       1.00      1.00      1.00         2\n",
      "Ebizou(Chie's brother)       1.00      1.00      1.00        11\n",
      "                 Gaara       0.96      0.96      0.96        57\n",
      "      Grandmother Chie       1.00      1.00      1.00        39\n",
      "                Hinata       0.00      0.00      0.00         2\n",
      "                   Ino       0.00      0.00      0.00         1\n",
      "                 Iruka       1.00      1.00      1.00        32\n",
      "               Kankuro       1.00      1.00      1.00        31\n",
      "                Naruto       0.97      0.99      0.98        71\n",
      "              Rokku Ri       1.00      1.00      1.00         4\n",
      "                Sakura       0.99      0.95      0.97       176\n",
      "                Sasuke       0.86      1.00      0.93        19\n",
      "             Shikamaru       0.89      1.00      0.94        34\n",
      "               Shizune       1.00      1.00      1.00         2\n",
      "                Temari       1.00      0.94      0.97        17\n",
      "               Ten-Ten       1.00      1.00      1.00         2\n",
      "         Teuchi(ramen)       1.00      1.00      1.00         5\n",
      "               Tsunade       0.87      0.94      0.90        50\n",
      "                Yamato       1.00      1.00      1.00         2\n",
      "\n",
      "              accuracy                           0.97       557\n",
      "             macro avg       0.87      0.88      0.88       557\n",
      "          weighted avg       0.96      0.97      0.96       557\n",
      "\n"
     ]
    },
    {
     "name": "stderr",
     "output_type": "stream",
     "text": [
      "C:\\Users\\Ivan\\AppData\\Local\\Programs\\Python\\Python312\\Lib\\site-packages\\sklearn\\metrics\\_classification.py:1531: UndefinedMetricWarning: Precision is ill-defined and being set to 0.0 in labels with no predicted samples. Use `zero_division` parameter to control this behavior.\n",
      "  _warn_prf(average, modifier, f\"{metric.capitalize()} is\", len(result))\n",
      "C:\\Users\\Ivan\\AppData\\Local\\Programs\\Python\\Python312\\Lib\\site-packages\\sklearn\\metrics\\_classification.py:1531: UndefinedMetricWarning: Precision is ill-defined and being set to 0.0 in labels with no predicted samples. Use `zero_division` parameter to control this behavior.\n",
      "  _warn_prf(average, modifier, f\"{metric.capitalize()} is\", len(result))\n",
      "C:\\Users\\Ivan\\AppData\\Local\\Programs\\Python\\Python312\\Lib\\site-packages\\sklearn\\metrics\\_classification.py:1531: UndefinedMetricWarning: Precision is ill-defined and being set to 0.0 in labels with no predicted samples. Use `zero_division` parameter to control this behavior.\n",
      "  _warn_prf(average, modifier, f\"{metric.capitalize()} is\", len(result))\n"
     ]
    }
   ],
   "execution_count": 98
  },
  {
   "metadata": {
    "ExecuteTime": {
     "end_time": "2025-01-15T13:40:20.616406Z",
     "start_time": "2025-01-15T13:40:16.614905Z"
    }
   },
   "cell_type": "code",
   "source": [
    "import numpy as np\n",
    "\n",
    "model.eval()\n",
    "embeddings, labels = [], []\n",
    "\n",
    "with torch.no_grad():\n",
    "    for inputs, targets in test_loader:\n",
    "        inputs = inputs.to(device)\n",
    "        targets = targets.to(device)\n",
    "        \n",
    "        embedding = model(inputs, return_embedding=True)\n",
    "        embeddings.append(embedding.cpu().numpy())\n",
    "        labels.extend(targets.cpu().numpy())\n",
    "        \n",
    "embeddings = np.concatenate(embeddings, axis=0)\n",
    "labels = np.array(labels)"
   ],
   "id": "ea34640b08f8336b",
   "outputs": [],
   "execution_count": 100
  },
  {
   "metadata": {
    "ExecuteTime": {
     "end_time": "2025-01-15T13:40:22.092945Z",
     "start_time": "2025-01-15T13:40:22.088274Z"
    }
   },
   "cell_type": "code",
   "source": [
    "if len(embeddings.shape) == 4:\n",
    "    batch_size, channels, height, width = embeddings.shape\n",
    "    embeddings = embeddings.reshape(batch_size, -1)"
   ],
   "id": "aedbb0a711f9d184",
   "outputs": [],
   "execution_count": 101
  },
  {
   "metadata": {
    "ExecuteTime": {
     "end_time": "2025-01-15T13:40:27.136574Z",
     "start_time": "2025-01-15T13:40:23.679284Z"
    }
   },
   "cell_type": "code",
   "source": [
    "tsne = TSNE(n_components=2, random_state=42, perplexity=30, max_iter=1000)\n",
    "tsne_embeddings = tsne.fit_transform(embeddings)\n",
    "\n",
    "plt.figure(figsize=(10, 8))\n",
    "scatter = plt.scatter(tsne_embeddings[:, 0], tsne_embeddings[:, 1], c=labels, cmap='tab10', alpha=0.8)\n",
    "plt.colorbar(scatter, ticks=range(len(class_names)), label='Class')\n",
    "plt.title(\"t-SNE ResNet\")\n",
    "plt.xlabel(\"Dimension 1\")\n",
    "plt.ylabel(\"Dimension 2\")\n",
    "plt.show()"
   ],
   "id": "16732b69f1ecc74e",
   "outputs": [
    {
     "data": {
      "text/plain": [
       "<Figure size 1000x800 with 2 Axes>"
      ],
      "image/png": "[encoded data removed]"
     },
     "metadata": {},
     "output_type": "display_data"
    }
   ],
   "execution_count": 102
  },
  {
   "metadata": {},
   "cell_type": "code",
   "outputs": [],
   "execution_count": null,
   "source": "",
   "id": "56de80bc35be0268"
  }
 ],
 "metadata": {
  "kernelspec": {
   "display_name": "Python 3",
   "language": "python",
   "name": "python3"
  },
  "language_info": {
   "codemirror_mode": {
    "name": "ipython",
    "version": 2
   },
   "file_extension": ".py",
   "mimetype": "text/x-python",
   "name": "python",
   "nbconvert_exporter": "python",
   "pygments_lexer": "ipython2",
   "version": "2.7.6"
  }
 },
 "nbformat": 4,
 "nbformat_minor": 5
}
